{
 "cells": [
  {
   "cell_type": "code",
   "execution_count": 1,
   "metadata": {},
   "outputs": [],
   "source": [
    "import pandas as pd\n",
    "import csv\n",
    "import json\n",
    "import numpy as np\n",
    "import matplotlib.pyplot as plt\n",
    "import requests\n",
    "import scipy.stats as sts"
   ]
  },
  {
   "cell_type": "code",
   "execution_count": 2,
   "metadata": {},
   "outputs": [],
   "source": [
    "##Pulled in original data\n",
    "file_path = '../us_accidents_june20.csv'\n",
    "accident_df = pd.read_csv(file_path)\n",
    "\n",
    "\n",
    "##Pulled in cleaned data of orininal file\n",
    "# file_path2 = '../2019accidents.csv'\n",
    "# final_accident_df_2019 = pd.read_csv(file_path2)"
   ]
  },
  {
   "cell_type": "code",
   "execution_count": 3,
   "metadata": {},
   "outputs": [
    {
     "data": {
      "text/html": [
       "<div>\n",
       "<style scoped>\n",
       "    .dataframe tbody tr th:only-of-type {\n",
       "        vertical-align: middle;\n",
       "    }\n",
       "\n",
       "    .dataframe tbody tr th {\n",
       "        vertical-align: top;\n",
       "    }\n",
       "\n",
       "    .dataframe thead th {\n",
       "        text-align: right;\n",
       "    }\n",
       "</style>\n",
       "<table border=\"1\" class=\"dataframe\">\n",
       "  <thead>\n",
       "    <tr style=\"text-align: right;\">\n",
       "      <th></th>\n",
       "      <th>Start_Time</th>\n",
       "      <th>Start_Lat</th>\n",
       "      <th>Start_Lng</th>\n",
       "      <th>City</th>\n",
       "      <th>State</th>\n",
       "      <th>Weather_Timestamp</th>\n",
       "      <th>Temperature(F)</th>\n",
       "      <th>Wind_Chill(F)</th>\n",
       "      <th>Visibility(mi)</th>\n",
       "      <th>Wind_Direction</th>\n",
       "      <th>Wind_Speed(mph)</th>\n",
       "      <th>Precipitation(in)</th>\n",
       "      <th>Weather_Condition</th>\n",
       "    </tr>\n",
       "  </thead>\n",
       "  <tbody>\n",
       "    <tr>\n",
       "      <th>0</th>\n",
       "      <td>2016-02-08 05:46:00</td>\n",
       "      <td>39.865147</td>\n",
       "      <td>-84.058723</td>\n",
       "      <td>Dayton</td>\n",
       "      <td>OH</td>\n",
       "      <td>2016-02-08 05:58:00</td>\n",
       "      <td>36.9</td>\n",
       "      <td>NaN</td>\n",
       "      <td>10.0</td>\n",
       "      <td>Calm</td>\n",
       "      <td>NaN</td>\n",
       "      <td>0.02</td>\n",
       "      <td>Light Rain</td>\n",
       "    </tr>\n",
       "    <tr>\n",
       "      <th>1</th>\n",
       "      <td>2016-02-08 06:07:59</td>\n",
       "      <td>39.928059</td>\n",
       "      <td>-82.831184</td>\n",
       "      <td>Reynoldsburg</td>\n",
       "      <td>OH</td>\n",
       "      <td>2016-02-08 05:51:00</td>\n",
       "      <td>37.9</td>\n",
       "      <td>NaN</td>\n",
       "      <td>10.0</td>\n",
       "      <td>Calm</td>\n",
       "      <td>NaN</td>\n",
       "      <td>0.00</td>\n",
       "      <td>Light Rain</td>\n",
       "    </tr>\n",
       "    <tr>\n",
       "      <th>2</th>\n",
       "      <td>2016-02-08 06:49:27</td>\n",
       "      <td>39.063148</td>\n",
       "      <td>-84.032608</td>\n",
       "      <td>Williamsburg</td>\n",
       "      <td>OH</td>\n",
       "      <td>2016-02-08 06:56:00</td>\n",
       "      <td>36.0</td>\n",
       "      <td>33.3</td>\n",
       "      <td>10.0</td>\n",
       "      <td>SW</td>\n",
       "      <td>3.5</td>\n",
       "      <td>NaN</td>\n",
       "      <td>Overcast</td>\n",
       "    </tr>\n",
       "    <tr>\n",
       "      <th>3</th>\n",
       "      <td>2016-02-08 07:23:34</td>\n",
       "      <td>39.747753</td>\n",
       "      <td>-84.205582</td>\n",
       "      <td>Dayton</td>\n",
       "      <td>OH</td>\n",
       "      <td>2016-02-08 07:38:00</td>\n",
       "      <td>35.1</td>\n",
       "      <td>31.0</td>\n",
       "      <td>9.0</td>\n",
       "      <td>SW</td>\n",
       "      <td>4.6</td>\n",
       "      <td>NaN</td>\n",
       "      <td>Mostly Cloudy</td>\n",
       "    </tr>\n",
       "    <tr>\n",
       "      <th>4</th>\n",
       "      <td>2016-02-08 07:39:07</td>\n",
       "      <td>39.627781</td>\n",
       "      <td>-84.188354</td>\n",
       "      <td>Dayton</td>\n",
       "      <td>OH</td>\n",
       "      <td>2016-02-08 07:53:00</td>\n",
       "      <td>36.0</td>\n",
       "      <td>33.3</td>\n",
       "      <td>6.0</td>\n",
       "      <td>SW</td>\n",
       "      <td>3.5</td>\n",
       "      <td>NaN</td>\n",
       "      <td>Mostly Cloudy</td>\n",
       "    </tr>\n",
       "    <tr>\n",
       "      <th>...</th>\n",
       "      <td>...</td>\n",
       "      <td>...</td>\n",
       "      <td>...</td>\n",
       "      <td>...</td>\n",
       "      <td>...</td>\n",
       "      <td>...</td>\n",
       "      <td>...</td>\n",
       "      <td>...</td>\n",
       "      <td>...</td>\n",
       "      <td>...</td>\n",
       "      <td>...</td>\n",
       "      <td>...</td>\n",
       "      <td>...</td>\n",
       "    </tr>\n",
       "    <tr>\n",
       "      <th>3513612</th>\n",
       "      <td>2019-08-23 18:03:25</td>\n",
       "      <td>34.002480</td>\n",
       "      <td>-117.379360</td>\n",
       "      <td>Riverside</td>\n",
       "      <td>CA</td>\n",
       "      <td>2019-08-23 17:53:00</td>\n",
       "      <td>86.0</td>\n",
       "      <td>86.0</td>\n",
       "      <td>10.0</td>\n",
       "      <td>W</td>\n",
       "      <td>13.0</td>\n",
       "      <td>0.00</td>\n",
       "      <td>Fair</td>\n",
       "    </tr>\n",
       "    <tr>\n",
       "      <th>3513613</th>\n",
       "      <td>2019-08-23 19:11:30</td>\n",
       "      <td>32.766960</td>\n",
       "      <td>-117.148060</td>\n",
       "      <td>San Diego</td>\n",
       "      <td>CA</td>\n",
       "      <td>2019-08-23 18:53:00</td>\n",
       "      <td>70.0</td>\n",
       "      <td>70.0</td>\n",
       "      <td>10.0</td>\n",
       "      <td>SW</td>\n",
       "      <td>6.0</td>\n",
       "      <td>0.00</td>\n",
       "      <td>Fair</td>\n",
       "    </tr>\n",
       "    <tr>\n",
       "      <th>3513614</th>\n",
       "      <td>2019-08-23 19:00:21</td>\n",
       "      <td>33.775450</td>\n",
       "      <td>-117.847790</td>\n",
       "      <td>Orange</td>\n",
       "      <td>CA</td>\n",
       "      <td>2019-08-23 18:53:00</td>\n",
       "      <td>73.0</td>\n",
       "      <td>73.0</td>\n",
       "      <td>10.0</td>\n",
       "      <td>SSW</td>\n",
       "      <td>10.0</td>\n",
       "      <td>0.00</td>\n",
       "      <td>Partly Cloudy</td>\n",
       "    </tr>\n",
       "    <tr>\n",
       "      <th>3513615</th>\n",
       "      <td>2019-08-23 19:00:21</td>\n",
       "      <td>33.992460</td>\n",
       "      <td>-118.403020</td>\n",
       "      <td>Culver City</td>\n",
       "      <td>CA</td>\n",
       "      <td>2019-08-23 18:51:00</td>\n",
       "      <td>71.0</td>\n",
       "      <td>71.0</td>\n",
       "      <td>10.0</td>\n",
       "      <td>SW</td>\n",
       "      <td>8.0</td>\n",
       "      <td>0.00</td>\n",
       "      <td>Fair</td>\n",
       "    </tr>\n",
       "    <tr>\n",
       "      <th>3513616</th>\n",
       "      <td>2019-08-23 18:52:06</td>\n",
       "      <td>34.133930</td>\n",
       "      <td>-117.230920</td>\n",
       "      <td>Highland</td>\n",
       "      <td>CA</td>\n",
       "      <td>2019-08-23 20:50:00</td>\n",
       "      <td>79.0</td>\n",
       "      <td>79.0</td>\n",
       "      <td>7.0</td>\n",
       "      <td>SW</td>\n",
       "      <td>7.0</td>\n",
       "      <td>0.00</td>\n",
       "      <td>Fair</td>\n",
       "    </tr>\n",
       "  </tbody>\n",
       "</table>\n",
       "<p>3513617 rows × 13 columns</p>\n",
       "</div>"
      ],
      "text/plain": [
       "                  Start_Time  Start_Lat   Start_Lng          City State  \\\n",
       "0        2016-02-08 05:46:00  39.865147  -84.058723        Dayton    OH   \n",
       "1        2016-02-08 06:07:59  39.928059  -82.831184  Reynoldsburg    OH   \n",
       "2        2016-02-08 06:49:27  39.063148  -84.032608  Williamsburg    OH   \n",
       "3        2016-02-08 07:23:34  39.747753  -84.205582        Dayton    OH   \n",
       "4        2016-02-08 07:39:07  39.627781  -84.188354        Dayton    OH   \n",
       "...                      ...        ...         ...           ...   ...   \n",
       "3513612  2019-08-23 18:03:25  34.002480 -117.379360     Riverside    CA   \n",
       "3513613  2019-08-23 19:11:30  32.766960 -117.148060     San Diego    CA   \n",
       "3513614  2019-08-23 19:00:21  33.775450 -117.847790        Orange    CA   \n",
       "3513615  2019-08-23 19:00:21  33.992460 -118.403020   Culver City    CA   \n",
       "3513616  2019-08-23 18:52:06  34.133930 -117.230920      Highland    CA   \n",
       "\n",
       "           Weather_Timestamp  Temperature(F)  Wind_Chill(F)  Visibility(mi)  \\\n",
       "0        2016-02-08 05:58:00            36.9            NaN            10.0   \n",
       "1        2016-02-08 05:51:00            37.9            NaN            10.0   \n",
       "2        2016-02-08 06:56:00            36.0           33.3            10.0   \n",
       "3        2016-02-08 07:38:00            35.1           31.0             9.0   \n",
       "4        2016-02-08 07:53:00            36.0           33.3             6.0   \n",
       "...                      ...             ...            ...             ...   \n",
       "3513612  2019-08-23 17:53:00            86.0           86.0            10.0   \n",
       "3513613  2019-08-23 18:53:00            70.0           70.0            10.0   \n",
       "3513614  2019-08-23 18:53:00            73.0           73.0            10.0   \n",
       "3513615  2019-08-23 18:51:00            71.0           71.0            10.0   \n",
       "3513616  2019-08-23 20:50:00            79.0           79.0             7.0   \n",
       "\n",
       "        Wind_Direction  Wind_Speed(mph)  Precipitation(in) Weather_Condition  \n",
       "0                 Calm              NaN               0.02        Light Rain  \n",
       "1                 Calm              NaN               0.00        Light Rain  \n",
       "2                   SW              3.5                NaN          Overcast  \n",
       "3                   SW              4.6                NaN     Mostly Cloudy  \n",
       "4                   SW              3.5                NaN     Mostly Cloudy  \n",
       "...                ...              ...                ...               ...  \n",
       "3513612              W             13.0               0.00              Fair  \n",
       "3513613             SW              6.0               0.00              Fair  \n",
       "3513614            SSW             10.0               0.00     Partly Cloudy  \n",
       "3513615             SW              8.0               0.00              Fair  \n",
       "3513616             SW              7.0               0.00              Fair  \n",
       "\n",
       "[3513617 rows x 13 columns]"
      ]
     },
     "execution_count": 3,
     "metadata": {},
     "output_type": "execute_result"
    }
   ],
   "source": [
    "##Cleaning data into a dataframe\n",
    "accident_df = accident_df.loc[:, ['Start_Time','Start_Lat', 'Start_Lng','City','State','Weather_Timestamp','Temperature(F)', 'Wind_Chill(F)','Visibility(mi)', 'Wind_Direction', 'Wind_Speed(mph)','Precipitation(in)', 'Weather_Condition']]\n",
    "accident_df"
   ]
  },
  {
   "cell_type": "code",
   "execution_count": 4,
   "metadata": {},
   "outputs": [
    {
     "data": {
      "text/html": [
       "<div>\n",
       "<style scoped>\n",
       "    .dataframe tbody tr th:only-of-type {\n",
       "        vertical-align: middle;\n",
       "    }\n",
       "\n",
       "    .dataframe tbody tr th {\n",
       "        vertical-align: top;\n",
       "    }\n",
       "\n",
       "    .dataframe thead th {\n",
       "        text-align: right;\n",
       "    }\n",
       "</style>\n",
       "<table border=\"1\" class=\"dataframe\">\n",
       "  <thead>\n",
       "    <tr style=\"text-align: right;\">\n",
       "      <th></th>\n",
       "      <th>Start_Time</th>\n",
       "      <th>Start_Lat</th>\n",
       "      <th>Start_Lng</th>\n",
       "      <th>City</th>\n",
       "      <th>State</th>\n",
       "      <th>Weather_Timestamp</th>\n",
       "      <th>Temperature(F)</th>\n",
       "      <th>Wind_Chill(F)</th>\n",
       "      <th>Visibility(mi)</th>\n",
       "      <th>Wind_Direction</th>\n",
       "      <th>Wind_Speed(mph)</th>\n",
       "      <th>Precipitation(in)</th>\n",
       "      <th>Weather_Condition</th>\n",
       "      <th>Date</th>\n",
       "      <th>Time</th>\n",
       "    </tr>\n",
       "  </thead>\n",
       "  <tbody>\n",
       "    <tr>\n",
       "      <th>0</th>\n",
       "      <td>2016-02-08 05:46:00</td>\n",
       "      <td>39.865147</td>\n",
       "      <td>-84.058723</td>\n",
       "      <td>Dayton</td>\n",
       "      <td>OH</td>\n",
       "      <td>2016-02-08 05:58:00</td>\n",
       "      <td>36.9</td>\n",
       "      <td>NaN</td>\n",
       "      <td>10.0</td>\n",
       "      <td>Calm</td>\n",
       "      <td>NaN</td>\n",
       "      <td>0.02</td>\n",
       "      <td>Light Rain</td>\n",
       "      <td>2016-02-08</td>\n",
       "      <td>05:46:00</td>\n",
       "    </tr>\n",
       "    <tr>\n",
       "      <th>1</th>\n",
       "      <td>2016-02-08 06:07:59</td>\n",
       "      <td>39.928059</td>\n",
       "      <td>-82.831184</td>\n",
       "      <td>Reynoldsburg</td>\n",
       "      <td>OH</td>\n",
       "      <td>2016-02-08 05:51:00</td>\n",
       "      <td>37.9</td>\n",
       "      <td>NaN</td>\n",
       "      <td>10.0</td>\n",
       "      <td>Calm</td>\n",
       "      <td>NaN</td>\n",
       "      <td>0.00</td>\n",
       "      <td>Light Rain</td>\n",
       "      <td>2016-02-08</td>\n",
       "      <td>06:07:59</td>\n",
       "    </tr>\n",
       "    <tr>\n",
       "      <th>2</th>\n",
       "      <td>2016-02-08 06:49:27</td>\n",
       "      <td>39.063148</td>\n",
       "      <td>-84.032608</td>\n",
       "      <td>Williamsburg</td>\n",
       "      <td>OH</td>\n",
       "      <td>2016-02-08 06:56:00</td>\n",
       "      <td>36.0</td>\n",
       "      <td>33.3</td>\n",
       "      <td>10.0</td>\n",
       "      <td>SW</td>\n",
       "      <td>3.5</td>\n",
       "      <td>NaN</td>\n",
       "      <td>Overcast</td>\n",
       "      <td>2016-02-08</td>\n",
       "      <td>06:49:27</td>\n",
       "    </tr>\n",
       "    <tr>\n",
       "      <th>3</th>\n",
       "      <td>2016-02-08 07:23:34</td>\n",
       "      <td>39.747753</td>\n",
       "      <td>-84.205582</td>\n",
       "      <td>Dayton</td>\n",
       "      <td>OH</td>\n",
       "      <td>2016-02-08 07:38:00</td>\n",
       "      <td>35.1</td>\n",
       "      <td>31.0</td>\n",
       "      <td>9.0</td>\n",
       "      <td>SW</td>\n",
       "      <td>4.6</td>\n",
       "      <td>NaN</td>\n",
       "      <td>Mostly Cloudy</td>\n",
       "      <td>2016-02-08</td>\n",
       "      <td>07:23:34</td>\n",
       "    </tr>\n",
       "    <tr>\n",
       "      <th>4</th>\n",
       "      <td>2016-02-08 07:39:07</td>\n",
       "      <td>39.627781</td>\n",
       "      <td>-84.188354</td>\n",
       "      <td>Dayton</td>\n",
       "      <td>OH</td>\n",
       "      <td>2016-02-08 07:53:00</td>\n",
       "      <td>36.0</td>\n",
       "      <td>33.3</td>\n",
       "      <td>6.0</td>\n",
       "      <td>SW</td>\n",
       "      <td>3.5</td>\n",
       "      <td>NaN</td>\n",
       "      <td>Mostly Cloudy</td>\n",
       "      <td>2016-02-08</td>\n",
       "      <td>07:39:07</td>\n",
       "    </tr>\n",
       "    <tr>\n",
       "      <th>...</th>\n",
       "      <td>...</td>\n",
       "      <td>...</td>\n",
       "      <td>...</td>\n",
       "      <td>...</td>\n",
       "      <td>...</td>\n",
       "      <td>...</td>\n",
       "      <td>...</td>\n",
       "      <td>...</td>\n",
       "      <td>...</td>\n",
       "      <td>...</td>\n",
       "      <td>...</td>\n",
       "      <td>...</td>\n",
       "      <td>...</td>\n",
       "      <td>...</td>\n",
       "      <td>...</td>\n",
       "    </tr>\n",
       "    <tr>\n",
       "      <th>3513612</th>\n",
       "      <td>2019-08-23 18:03:25</td>\n",
       "      <td>34.002480</td>\n",
       "      <td>-117.379360</td>\n",
       "      <td>Riverside</td>\n",
       "      <td>CA</td>\n",
       "      <td>2019-08-23 17:53:00</td>\n",
       "      <td>86.0</td>\n",
       "      <td>86.0</td>\n",
       "      <td>10.0</td>\n",
       "      <td>W</td>\n",
       "      <td>13.0</td>\n",
       "      <td>0.00</td>\n",
       "      <td>Fair</td>\n",
       "      <td>2019-08-23</td>\n",
       "      <td>18:03:25</td>\n",
       "    </tr>\n",
       "    <tr>\n",
       "      <th>3513613</th>\n",
       "      <td>2019-08-23 19:11:30</td>\n",
       "      <td>32.766960</td>\n",
       "      <td>-117.148060</td>\n",
       "      <td>San Diego</td>\n",
       "      <td>CA</td>\n",
       "      <td>2019-08-23 18:53:00</td>\n",
       "      <td>70.0</td>\n",
       "      <td>70.0</td>\n",
       "      <td>10.0</td>\n",
       "      <td>SW</td>\n",
       "      <td>6.0</td>\n",
       "      <td>0.00</td>\n",
       "      <td>Fair</td>\n",
       "      <td>2019-08-23</td>\n",
       "      <td>19:11:30</td>\n",
       "    </tr>\n",
       "    <tr>\n",
       "      <th>3513614</th>\n",
       "      <td>2019-08-23 19:00:21</td>\n",
       "      <td>33.775450</td>\n",
       "      <td>-117.847790</td>\n",
       "      <td>Orange</td>\n",
       "      <td>CA</td>\n",
       "      <td>2019-08-23 18:53:00</td>\n",
       "      <td>73.0</td>\n",
       "      <td>73.0</td>\n",
       "      <td>10.0</td>\n",
       "      <td>SSW</td>\n",
       "      <td>10.0</td>\n",
       "      <td>0.00</td>\n",
       "      <td>Partly Cloudy</td>\n",
       "      <td>2019-08-23</td>\n",
       "      <td>19:00:21</td>\n",
       "    </tr>\n",
       "    <tr>\n",
       "      <th>3513615</th>\n",
       "      <td>2019-08-23 19:00:21</td>\n",
       "      <td>33.992460</td>\n",
       "      <td>-118.403020</td>\n",
       "      <td>Culver City</td>\n",
       "      <td>CA</td>\n",
       "      <td>2019-08-23 18:51:00</td>\n",
       "      <td>71.0</td>\n",
       "      <td>71.0</td>\n",
       "      <td>10.0</td>\n",
       "      <td>SW</td>\n",
       "      <td>8.0</td>\n",
       "      <td>0.00</td>\n",
       "      <td>Fair</td>\n",
       "      <td>2019-08-23</td>\n",
       "      <td>19:00:21</td>\n",
       "    </tr>\n",
       "    <tr>\n",
       "      <th>3513616</th>\n",
       "      <td>2019-08-23 18:52:06</td>\n",
       "      <td>34.133930</td>\n",
       "      <td>-117.230920</td>\n",
       "      <td>Highland</td>\n",
       "      <td>CA</td>\n",
       "      <td>2019-08-23 20:50:00</td>\n",
       "      <td>79.0</td>\n",
       "      <td>79.0</td>\n",
       "      <td>7.0</td>\n",
       "      <td>SW</td>\n",
       "      <td>7.0</td>\n",
       "      <td>0.00</td>\n",
       "      <td>Fair</td>\n",
       "      <td>2019-08-23</td>\n",
       "      <td>18:52:06</td>\n",
       "    </tr>\n",
       "  </tbody>\n",
       "</table>\n",
       "<p>3513617 rows × 15 columns</p>\n",
       "</div>"
      ],
      "text/plain": [
       "                  Start_Time  Start_Lat   Start_Lng          City State  \\\n",
       "0        2016-02-08 05:46:00  39.865147  -84.058723        Dayton    OH   \n",
       "1        2016-02-08 06:07:59  39.928059  -82.831184  Reynoldsburg    OH   \n",
       "2        2016-02-08 06:49:27  39.063148  -84.032608  Williamsburg    OH   \n",
       "3        2016-02-08 07:23:34  39.747753  -84.205582        Dayton    OH   \n",
       "4        2016-02-08 07:39:07  39.627781  -84.188354        Dayton    OH   \n",
       "...                      ...        ...         ...           ...   ...   \n",
       "3513612  2019-08-23 18:03:25  34.002480 -117.379360     Riverside    CA   \n",
       "3513613  2019-08-23 19:11:30  32.766960 -117.148060     San Diego    CA   \n",
       "3513614  2019-08-23 19:00:21  33.775450 -117.847790        Orange    CA   \n",
       "3513615  2019-08-23 19:00:21  33.992460 -118.403020   Culver City    CA   \n",
       "3513616  2019-08-23 18:52:06  34.133930 -117.230920      Highland    CA   \n",
       "\n",
       "           Weather_Timestamp  Temperature(F)  Wind_Chill(F)  Visibility(mi)  \\\n",
       "0        2016-02-08 05:58:00            36.9            NaN            10.0   \n",
       "1        2016-02-08 05:51:00            37.9            NaN            10.0   \n",
       "2        2016-02-08 06:56:00            36.0           33.3            10.0   \n",
       "3        2016-02-08 07:38:00            35.1           31.0             9.0   \n",
       "4        2016-02-08 07:53:00            36.0           33.3             6.0   \n",
       "...                      ...             ...            ...             ...   \n",
       "3513612  2019-08-23 17:53:00            86.0           86.0            10.0   \n",
       "3513613  2019-08-23 18:53:00            70.0           70.0            10.0   \n",
       "3513614  2019-08-23 18:53:00            73.0           73.0            10.0   \n",
       "3513615  2019-08-23 18:51:00            71.0           71.0            10.0   \n",
       "3513616  2019-08-23 20:50:00            79.0           79.0             7.0   \n",
       "\n",
       "        Wind_Direction  Wind_Speed(mph)  Precipitation(in) Weather_Condition  \\\n",
       "0                 Calm              NaN               0.02        Light Rain   \n",
       "1                 Calm              NaN               0.00        Light Rain   \n",
       "2                   SW              3.5                NaN          Overcast   \n",
       "3                   SW              4.6                NaN     Mostly Cloudy   \n",
       "4                   SW              3.5                NaN     Mostly Cloudy   \n",
       "...                ...              ...                ...               ...   \n",
       "3513612              W             13.0               0.00              Fair   \n",
       "3513613             SW              6.0               0.00              Fair   \n",
       "3513614            SSW             10.0               0.00     Partly Cloudy   \n",
       "3513615             SW              8.0               0.00              Fair   \n",
       "3513616             SW              7.0               0.00              Fair   \n",
       "\n",
       "               Date      Time  \n",
       "0        2016-02-08  05:46:00  \n",
       "1        2016-02-08  06:07:59  \n",
       "2        2016-02-08  06:49:27  \n",
       "3        2016-02-08  07:23:34  \n",
       "4        2016-02-08  07:39:07  \n",
       "...             ...       ...  \n",
       "3513612  2019-08-23  18:03:25  \n",
       "3513613  2019-08-23  19:11:30  \n",
       "3513614  2019-08-23  19:00:21  \n",
       "3513615  2019-08-23  19:00:21  \n",
       "3513616  2019-08-23  18:52:06  \n",
       "\n",
       "[3513617 rows x 15 columns]"
      ]
     },
     "execution_count": 4,
     "metadata": {},
     "output_type": "execute_result"
    }
   ],
   "source": [
    "##Cleaning data : splitting up start_time column into separate time and date\n",
    "df = accident_df['Start_Time'].str.split(' ', 1)\n",
    "date_series = df['date'] = df.str.get(0)\n",
    "time_series = df['time'] = df.str.get(1)\n",
    "\n",
    "time_series = list(time_series)\n",
    "date_series = list(date_series)\n",
    "del time_series[-1]\n",
    "\n",
    "accident_df['Date'] = date_series\n",
    "accident_df['Time'] = time_series\n",
    "accident_df"
   ]
  },
  {
   "cell_type": "code",
   "execution_count": 5,
   "metadata": {},
   "outputs": [
    {
     "data": {
      "text/plain": [
       "0    False\n",
       "1    False\n",
       "2    False\n",
       "3    False\n",
       "4    False\n",
       "Name: Date, dtype: bool"
      ]
     },
     "execution_count": 5,
     "metadata": {},
     "output_type": "execute_result"
    }
   ],
   "source": [
    "year_2019_2020 = accident_df['Date'] > '2018-12-31'\n",
    "year_2019_2020.head()"
   ]
  },
  {
   "cell_type": "code",
   "execution_count": 6,
   "metadata": {},
   "outputs": [
    {
     "data": {
      "text/html": [
       "<div>\n",
       "<style scoped>\n",
       "    .dataframe tbody tr th:only-of-type {\n",
       "        vertical-align: middle;\n",
       "    }\n",
       "\n",
       "    .dataframe tbody tr th {\n",
       "        vertical-align: top;\n",
       "    }\n",
       "\n",
       "    .dataframe thead th {\n",
       "        text-align: right;\n",
       "    }\n",
       "</style>\n",
       "<table border=\"1\" class=\"dataframe\">\n",
       "  <thead>\n",
       "    <tr style=\"text-align: right;\">\n",
       "      <th></th>\n",
       "      <th>Start_Time</th>\n",
       "      <th>Start_Lat</th>\n",
       "      <th>Start_Lng</th>\n",
       "      <th>City</th>\n",
       "      <th>State</th>\n",
       "      <th>Weather_Timestamp</th>\n",
       "      <th>Temperature(F)</th>\n",
       "      <th>Wind_Chill(F)</th>\n",
       "      <th>Visibility(mi)</th>\n",
       "      <th>Wind_Direction</th>\n",
       "      <th>Wind_Speed(mph)</th>\n",
       "      <th>Precipitation(in)</th>\n",
       "      <th>Weather_Condition</th>\n",
       "      <th>Date</th>\n",
       "      <th>Time</th>\n",
       "    </tr>\n",
       "  </thead>\n",
       "  <tbody>\n",
       "    <tr>\n",
       "      <th>512224</th>\n",
       "      <td>2020-05-24 01:37:16</td>\n",
       "      <td>42.932457</td>\n",
       "      <td>-78.766060</td>\n",
       "      <td>Buffalo</td>\n",
       "      <td>NY</td>\n",
       "      <td>2020-05-24 01:54:00</td>\n",
       "      <td>64.0</td>\n",
       "      <td>64.0</td>\n",
       "      <td>10.0</td>\n",
       "      <td>CALM</td>\n",
       "      <td>0.0</td>\n",
       "      <td>0.00</td>\n",
       "      <td>Cloudy</td>\n",
       "      <td>2020-05-24</td>\n",
       "      <td>01:37:16</td>\n",
       "    </tr>\n",
       "    <tr>\n",
       "      <th>512225</th>\n",
       "      <td>2020-05-24 04:19:35</td>\n",
       "      <td>43.005428</td>\n",
       "      <td>-78.948601</td>\n",
       "      <td>Grand Island</td>\n",
       "      <td>NY</td>\n",
       "      <td>2020-05-24 03:53:00</td>\n",
       "      <td>62.0</td>\n",
       "      <td>62.0</td>\n",
       "      <td>5.0</td>\n",
       "      <td>ESE</td>\n",
       "      <td>5.0</td>\n",
       "      <td>0.01</td>\n",
       "      <td>Light Rain</td>\n",
       "      <td>2020-05-24</td>\n",
       "      <td>04:19:35</td>\n",
       "    </tr>\n",
       "    <tr>\n",
       "      <th>512226</th>\n",
       "      <td>2020-05-24 16:00:22</td>\n",
       "      <td>42.744190</td>\n",
       "      <td>-78.842873</td>\n",
       "      <td>Hamburg</td>\n",
       "      <td>NY</td>\n",
       "      <td>2020-05-24 15:54:00</td>\n",
       "      <td>83.0</td>\n",
       "      <td>83.0</td>\n",
       "      <td>10.0</td>\n",
       "      <td>SW</td>\n",
       "      <td>9.0</td>\n",
       "      <td>0.00</td>\n",
       "      <td>Partly Cloudy</td>\n",
       "      <td>2020-05-24</td>\n",
       "      <td>16:00:22</td>\n",
       "    </tr>\n",
       "    <tr>\n",
       "      <th>512227</th>\n",
       "      <td>2020-05-24 09:21:07</td>\n",
       "      <td>42.013992</td>\n",
       "      <td>-70.726639</td>\n",
       "      <td>Duxbury</td>\n",
       "      <td>MA</td>\n",
       "      <td>2020-05-24 09:15:00</td>\n",
       "      <td>54.0</td>\n",
       "      <td>54.0</td>\n",
       "      <td>10.0</td>\n",
       "      <td>ENE</td>\n",
       "      <td>13.0</td>\n",
       "      <td>0.00</td>\n",
       "      <td>Mostly Cloudy</td>\n",
       "      <td>2020-05-24</td>\n",
       "      <td>09:21:07</td>\n",
       "    </tr>\n",
       "    <tr>\n",
       "      <th>512228</th>\n",
       "      <td>2020-05-24 15:13:34</td>\n",
       "      <td>42.380833</td>\n",
       "      <td>-71.076225</td>\n",
       "      <td>Charlestown</td>\n",
       "      <td>MA</td>\n",
       "      <td>2020-05-24 14:54:00</td>\n",
       "      <td>52.0</td>\n",
       "      <td>52.0</td>\n",
       "      <td>10.0</td>\n",
       "      <td>E</td>\n",
       "      <td>15.0</td>\n",
       "      <td>0.00</td>\n",
       "      <td>Cloudy</td>\n",
       "      <td>2020-05-24</td>\n",
       "      <td>15:13:34</td>\n",
       "    </tr>\n",
       "    <tr>\n",
       "      <th>...</th>\n",
       "      <td>...</td>\n",
       "      <td>...</td>\n",
       "      <td>...</td>\n",
       "      <td>...</td>\n",
       "      <td>...</td>\n",
       "      <td>...</td>\n",
       "      <td>...</td>\n",
       "      <td>...</td>\n",
       "      <td>...</td>\n",
       "      <td>...</td>\n",
       "      <td>...</td>\n",
       "      <td>...</td>\n",
       "      <td>...</td>\n",
       "      <td>...</td>\n",
       "      <td>...</td>\n",
       "    </tr>\n",
       "    <tr>\n",
       "      <th>3513612</th>\n",
       "      <td>2019-08-23 18:03:25</td>\n",
       "      <td>34.002480</td>\n",
       "      <td>-117.379360</td>\n",
       "      <td>Riverside</td>\n",
       "      <td>CA</td>\n",
       "      <td>2019-08-23 17:53:00</td>\n",
       "      <td>86.0</td>\n",
       "      <td>86.0</td>\n",
       "      <td>10.0</td>\n",
       "      <td>W</td>\n",
       "      <td>13.0</td>\n",
       "      <td>0.00</td>\n",
       "      <td>Fair</td>\n",
       "      <td>2019-08-23</td>\n",
       "      <td>18:03:25</td>\n",
       "    </tr>\n",
       "    <tr>\n",
       "      <th>3513613</th>\n",
       "      <td>2019-08-23 19:11:30</td>\n",
       "      <td>32.766960</td>\n",
       "      <td>-117.148060</td>\n",
       "      <td>San Diego</td>\n",
       "      <td>CA</td>\n",
       "      <td>2019-08-23 18:53:00</td>\n",
       "      <td>70.0</td>\n",
       "      <td>70.0</td>\n",
       "      <td>10.0</td>\n",
       "      <td>SW</td>\n",
       "      <td>6.0</td>\n",
       "      <td>0.00</td>\n",
       "      <td>Fair</td>\n",
       "      <td>2019-08-23</td>\n",
       "      <td>19:11:30</td>\n",
       "    </tr>\n",
       "    <tr>\n",
       "      <th>3513614</th>\n",
       "      <td>2019-08-23 19:00:21</td>\n",
       "      <td>33.775450</td>\n",
       "      <td>-117.847790</td>\n",
       "      <td>Orange</td>\n",
       "      <td>CA</td>\n",
       "      <td>2019-08-23 18:53:00</td>\n",
       "      <td>73.0</td>\n",
       "      <td>73.0</td>\n",
       "      <td>10.0</td>\n",
       "      <td>SSW</td>\n",
       "      <td>10.0</td>\n",
       "      <td>0.00</td>\n",
       "      <td>Partly Cloudy</td>\n",
       "      <td>2019-08-23</td>\n",
       "      <td>19:00:21</td>\n",
       "    </tr>\n",
       "    <tr>\n",
       "      <th>3513615</th>\n",
       "      <td>2019-08-23 19:00:21</td>\n",
       "      <td>33.992460</td>\n",
       "      <td>-118.403020</td>\n",
       "      <td>Culver City</td>\n",
       "      <td>CA</td>\n",
       "      <td>2019-08-23 18:51:00</td>\n",
       "      <td>71.0</td>\n",
       "      <td>71.0</td>\n",
       "      <td>10.0</td>\n",
       "      <td>SW</td>\n",
       "      <td>8.0</td>\n",
       "      <td>0.00</td>\n",
       "      <td>Fair</td>\n",
       "      <td>2019-08-23</td>\n",
       "      <td>19:00:21</td>\n",
       "    </tr>\n",
       "    <tr>\n",
       "      <th>3513616</th>\n",
       "      <td>2019-08-23 18:52:06</td>\n",
       "      <td>34.133930</td>\n",
       "      <td>-117.230920</td>\n",
       "      <td>Highland</td>\n",
       "      <td>CA</td>\n",
       "      <td>2019-08-23 20:50:00</td>\n",
       "      <td>79.0</td>\n",
       "      <td>79.0</td>\n",
       "      <td>7.0</td>\n",
       "      <td>SW</td>\n",
       "      <td>7.0</td>\n",
       "      <td>0.00</td>\n",
       "      <td>Fair</td>\n",
       "      <td>2019-08-23</td>\n",
       "      <td>18:52:06</td>\n",
       "    </tr>\n",
       "  </tbody>\n",
       "</table>\n",
       "<p>1492920 rows × 15 columns</p>\n",
       "</div>"
      ],
      "text/plain": [
       "                  Start_Time  Start_Lat   Start_Lng          City State  \\\n",
       "512224   2020-05-24 01:37:16  42.932457  -78.766060       Buffalo    NY   \n",
       "512225   2020-05-24 04:19:35  43.005428  -78.948601  Grand Island    NY   \n",
       "512226   2020-05-24 16:00:22  42.744190  -78.842873       Hamburg    NY   \n",
       "512227   2020-05-24 09:21:07  42.013992  -70.726639       Duxbury    MA   \n",
       "512228   2020-05-24 15:13:34  42.380833  -71.076225   Charlestown    MA   \n",
       "...                      ...        ...         ...           ...   ...   \n",
       "3513612  2019-08-23 18:03:25  34.002480 -117.379360     Riverside    CA   \n",
       "3513613  2019-08-23 19:11:30  32.766960 -117.148060     San Diego    CA   \n",
       "3513614  2019-08-23 19:00:21  33.775450 -117.847790        Orange    CA   \n",
       "3513615  2019-08-23 19:00:21  33.992460 -118.403020   Culver City    CA   \n",
       "3513616  2019-08-23 18:52:06  34.133930 -117.230920      Highland    CA   \n",
       "\n",
       "           Weather_Timestamp  Temperature(F)  Wind_Chill(F)  Visibility(mi)  \\\n",
       "512224   2020-05-24 01:54:00            64.0           64.0            10.0   \n",
       "512225   2020-05-24 03:53:00            62.0           62.0             5.0   \n",
       "512226   2020-05-24 15:54:00            83.0           83.0            10.0   \n",
       "512227   2020-05-24 09:15:00            54.0           54.0            10.0   \n",
       "512228   2020-05-24 14:54:00            52.0           52.0            10.0   \n",
       "...                      ...             ...            ...             ...   \n",
       "3513612  2019-08-23 17:53:00            86.0           86.0            10.0   \n",
       "3513613  2019-08-23 18:53:00            70.0           70.0            10.0   \n",
       "3513614  2019-08-23 18:53:00            73.0           73.0            10.0   \n",
       "3513615  2019-08-23 18:51:00            71.0           71.0            10.0   \n",
       "3513616  2019-08-23 20:50:00            79.0           79.0             7.0   \n",
       "\n",
       "        Wind_Direction  Wind_Speed(mph)  Precipitation(in) Weather_Condition  \\\n",
       "512224            CALM              0.0               0.00            Cloudy   \n",
       "512225             ESE              5.0               0.01        Light Rain   \n",
       "512226              SW              9.0               0.00     Partly Cloudy   \n",
       "512227             ENE             13.0               0.00     Mostly Cloudy   \n",
       "512228               E             15.0               0.00            Cloudy   \n",
       "...                ...              ...                ...               ...   \n",
       "3513612              W             13.0               0.00              Fair   \n",
       "3513613             SW              6.0               0.00              Fair   \n",
       "3513614            SSW             10.0               0.00     Partly Cloudy   \n",
       "3513615             SW              8.0               0.00              Fair   \n",
       "3513616             SW              7.0               0.00              Fair   \n",
       "\n",
       "               Date      Time  \n",
       "512224   2020-05-24  01:37:16  \n",
       "512225   2020-05-24  04:19:35  \n",
       "512226   2020-05-24  16:00:22  \n",
       "512227   2020-05-24  09:21:07  \n",
       "512228   2020-05-24  15:13:34  \n",
       "...             ...       ...  \n",
       "3513612  2019-08-23  18:03:25  \n",
       "3513613  2019-08-23  19:11:30  \n",
       "3513614  2019-08-23  19:00:21  \n",
       "3513615  2019-08-23  19:00:21  \n",
       "3513616  2019-08-23  18:52:06  \n",
       "\n",
       "[1492920 rows x 15 columns]"
      ]
     },
     "execution_count": 6,
     "metadata": {},
     "output_type": "execute_result"
    }
   ],
   "source": [
    "##printing the new data\n",
    "accident_df_19_20 = accident_df[year_2019_2020]\n",
    "accident_df_19_20"
   ]
  },
  {
   "cell_type": "code",
   "execution_count": 7,
   "metadata": {},
   "outputs": [
    {
     "data": {
      "text/plain": [
       "512224     False\n",
       "512225     False\n",
       "512226     False\n",
       "512227     False\n",
       "512228     False\n",
       "           ...  \n",
       "3513612     True\n",
       "3513613     True\n",
       "3513614     True\n",
       "3513615     True\n",
       "3513616     True\n",
       "Name: Date, Length: 1492920, dtype: bool"
      ]
     },
     "execution_count": 7,
     "metadata": {},
     "output_type": "execute_result"
    }
   ],
   "source": [
    "year_2019 = accident_df_19_20['Date'] < '2020-01-01'\n",
    "year_2019"
   ]
  },
  {
   "cell_type": "code",
   "execution_count": 8,
   "metadata": {},
   "outputs": [
    {
     "data": {
      "text/html": [
       "<div>\n",
       "<style scoped>\n",
       "    .dataframe tbody tr th:only-of-type {\n",
       "        vertical-align: middle;\n",
       "    }\n",
       "\n",
       "    .dataframe tbody tr th {\n",
       "        vertical-align: top;\n",
       "    }\n",
       "\n",
       "    .dataframe thead th {\n",
       "        text-align: right;\n",
       "    }\n",
       "</style>\n",
       "<table border=\"1\" class=\"dataframe\">\n",
       "  <thead>\n",
       "    <tr style=\"text-align: right;\">\n",
       "      <th></th>\n",
       "      <th>Start_Time</th>\n",
       "      <th>Start_Lat</th>\n",
       "      <th>Start_Lng</th>\n",
       "      <th>City</th>\n",
       "      <th>State</th>\n",
       "      <th>Weather_Timestamp</th>\n",
       "      <th>Temperature(F)</th>\n",
       "      <th>Wind_Chill(F)</th>\n",
       "      <th>Visibility(mi)</th>\n",
       "      <th>Wind_Direction</th>\n",
       "      <th>Wind_Speed(mph)</th>\n",
       "      <th>Precipitation(in)</th>\n",
       "      <th>Weather_Condition</th>\n",
       "      <th>Date</th>\n",
       "      <th>Time</th>\n",
       "    </tr>\n",
       "  </thead>\n",
       "  <tbody>\n",
       "    <tr>\n",
       "      <th>641495</th>\n",
       "      <td>2019-12-26 17:09:52</td>\n",
       "      <td>40.884850</td>\n",
       "      <td>-95.800362</td>\n",
       "      <td>Thurman</td>\n",
       "      <td>IA</td>\n",
       "      <td>2019-12-26 17:15:00</td>\n",
       "      <td>31.0</td>\n",
       "      <td>31.0</td>\n",
       "      <td>10.0</td>\n",
       "      <td>CALM</td>\n",
       "      <td>0.0</td>\n",
       "      <td>0.0</td>\n",
       "      <td>Fair</td>\n",
       "      <td>2019-12-26</td>\n",
       "      <td>17:09:52</td>\n",
       "    </tr>\n",
       "    <tr>\n",
       "      <th>641496</th>\n",
       "      <td>2019-12-26 17:10:32</td>\n",
       "      <td>40.889641</td>\n",
       "      <td>-95.798630</td>\n",
       "      <td>Thurman</td>\n",
       "      <td>IA</td>\n",
       "      <td>2019-12-26 17:15:00</td>\n",
       "      <td>31.0</td>\n",
       "      <td>31.0</td>\n",
       "      <td>10.0</td>\n",
       "      <td>CALM</td>\n",
       "      <td>0.0</td>\n",
       "      <td>0.0</td>\n",
       "      <td>Fair</td>\n",
       "      <td>2019-12-26</td>\n",
       "      <td>17:10:32</td>\n",
       "    </tr>\n",
       "    <tr>\n",
       "      <th>740268</th>\n",
       "      <td>2019-12-31 23:49:36</td>\n",
       "      <td>42.313499</td>\n",
       "      <td>-83.091225</td>\n",
       "      <td>Detroit</td>\n",
       "      <td>MI</td>\n",
       "      <td>2019-12-31 23:53:00</td>\n",
       "      <td>28.0</td>\n",
       "      <td>17.0</td>\n",
       "      <td>7.0</td>\n",
       "      <td>WSW</td>\n",
       "      <td>13.0</td>\n",
       "      <td>0.0</td>\n",
       "      <td>Cloudy</td>\n",
       "      <td>2019-12-31</td>\n",
       "      <td>23:49:36</td>\n",
       "    </tr>\n",
       "    <tr>\n",
       "      <th>740270</th>\n",
       "      <td>2019-12-31 23:50:02</td>\n",
       "      <td>42.398125</td>\n",
       "      <td>-83.109009</td>\n",
       "      <td>Detroit</td>\n",
       "      <td>MI</td>\n",
       "      <td>2019-12-31 23:53:00</td>\n",
       "      <td>28.0</td>\n",
       "      <td>17.0</td>\n",
       "      <td>7.0</td>\n",
       "      <td>WSW</td>\n",
       "      <td>13.0</td>\n",
       "      <td>0.0</td>\n",
       "      <td>Cloudy</td>\n",
       "      <td>2019-12-31</td>\n",
       "      <td>23:50:02</td>\n",
       "    </tr>\n",
       "    <tr>\n",
       "      <th>740335</th>\n",
       "      <td>2019-12-31 23:29:03</td>\n",
       "      <td>39.754967</td>\n",
       "      <td>-75.276283</td>\n",
       "      <td>Swedesboro</td>\n",
       "      <td>NJ</td>\n",
       "      <td>2019-12-31 23:54:00</td>\n",
       "      <td>43.0</td>\n",
       "      <td>36.0</td>\n",
       "      <td>10.0</td>\n",
       "      <td>WNW</td>\n",
       "      <td>14.0</td>\n",
       "      <td>0.0</td>\n",
       "      <td>Mostly Cloudy</td>\n",
       "      <td>2019-12-31</td>\n",
       "      <td>23:29:03</td>\n",
       "    </tr>\n",
       "    <tr>\n",
       "      <th>...</th>\n",
       "      <td>...</td>\n",
       "      <td>...</td>\n",
       "      <td>...</td>\n",
       "      <td>...</td>\n",
       "      <td>...</td>\n",
       "      <td>...</td>\n",
       "      <td>...</td>\n",
       "      <td>...</td>\n",
       "      <td>...</td>\n",
       "      <td>...</td>\n",
       "      <td>...</td>\n",
       "      <td>...</td>\n",
       "      <td>...</td>\n",
       "      <td>...</td>\n",
       "      <td>...</td>\n",
       "    </tr>\n",
       "    <tr>\n",
       "      <th>3513612</th>\n",
       "      <td>2019-08-23 18:03:25</td>\n",
       "      <td>34.002480</td>\n",
       "      <td>-117.379360</td>\n",
       "      <td>Riverside</td>\n",
       "      <td>CA</td>\n",
       "      <td>2019-08-23 17:53:00</td>\n",
       "      <td>86.0</td>\n",
       "      <td>86.0</td>\n",
       "      <td>10.0</td>\n",
       "      <td>W</td>\n",
       "      <td>13.0</td>\n",
       "      <td>0.0</td>\n",
       "      <td>Fair</td>\n",
       "      <td>2019-08-23</td>\n",
       "      <td>18:03:25</td>\n",
       "    </tr>\n",
       "    <tr>\n",
       "      <th>3513613</th>\n",
       "      <td>2019-08-23 19:11:30</td>\n",
       "      <td>32.766960</td>\n",
       "      <td>-117.148060</td>\n",
       "      <td>San Diego</td>\n",
       "      <td>CA</td>\n",
       "      <td>2019-08-23 18:53:00</td>\n",
       "      <td>70.0</td>\n",
       "      <td>70.0</td>\n",
       "      <td>10.0</td>\n",
       "      <td>SW</td>\n",
       "      <td>6.0</td>\n",
       "      <td>0.0</td>\n",
       "      <td>Fair</td>\n",
       "      <td>2019-08-23</td>\n",
       "      <td>19:11:30</td>\n",
       "    </tr>\n",
       "    <tr>\n",
       "      <th>3513614</th>\n",
       "      <td>2019-08-23 19:00:21</td>\n",
       "      <td>33.775450</td>\n",
       "      <td>-117.847790</td>\n",
       "      <td>Orange</td>\n",
       "      <td>CA</td>\n",
       "      <td>2019-08-23 18:53:00</td>\n",
       "      <td>73.0</td>\n",
       "      <td>73.0</td>\n",
       "      <td>10.0</td>\n",
       "      <td>SSW</td>\n",
       "      <td>10.0</td>\n",
       "      <td>0.0</td>\n",
       "      <td>Partly Cloudy</td>\n",
       "      <td>2019-08-23</td>\n",
       "      <td>19:00:21</td>\n",
       "    </tr>\n",
       "    <tr>\n",
       "      <th>3513615</th>\n",
       "      <td>2019-08-23 19:00:21</td>\n",
       "      <td>33.992460</td>\n",
       "      <td>-118.403020</td>\n",
       "      <td>Culver City</td>\n",
       "      <td>CA</td>\n",
       "      <td>2019-08-23 18:51:00</td>\n",
       "      <td>71.0</td>\n",
       "      <td>71.0</td>\n",
       "      <td>10.0</td>\n",
       "      <td>SW</td>\n",
       "      <td>8.0</td>\n",
       "      <td>0.0</td>\n",
       "      <td>Fair</td>\n",
       "      <td>2019-08-23</td>\n",
       "      <td>19:00:21</td>\n",
       "    </tr>\n",
       "    <tr>\n",
       "      <th>3513616</th>\n",
       "      <td>2019-08-23 18:52:06</td>\n",
       "      <td>34.133930</td>\n",
       "      <td>-117.230920</td>\n",
       "      <td>Highland</td>\n",
       "      <td>CA</td>\n",
       "      <td>2019-08-23 20:50:00</td>\n",
       "      <td>79.0</td>\n",
       "      <td>79.0</td>\n",
       "      <td>7.0</td>\n",
       "      <td>SW</td>\n",
       "      <td>7.0</td>\n",
       "      <td>0.0</td>\n",
       "      <td>Fair</td>\n",
       "      <td>2019-08-23</td>\n",
       "      <td>18:52:06</td>\n",
       "    </tr>\n",
       "  </tbody>\n",
       "</table>\n",
       "<p>953733 rows × 15 columns</p>\n",
       "</div>"
      ],
      "text/plain": [
       "                  Start_Time  Start_Lat   Start_Lng         City State  \\\n",
       "641495   2019-12-26 17:09:52  40.884850  -95.800362      Thurman    IA   \n",
       "641496   2019-12-26 17:10:32  40.889641  -95.798630      Thurman    IA   \n",
       "740268   2019-12-31 23:49:36  42.313499  -83.091225      Detroit    MI   \n",
       "740270   2019-12-31 23:50:02  42.398125  -83.109009      Detroit    MI   \n",
       "740335   2019-12-31 23:29:03  39.754967  -75.276283   Swedesboro    NJ   \n",
       "...                      ...        ...         ...          ...   ...   \n",
       "3513612  2019-08-23 18:03:25  34.002480 -117.379360    Riverside    CA   \n",
       "3513613  2019-08-23 19:11:30  32.766960 -117.148060    San Diego    CA   \n",
       "3513614  2019-08-23 19:00:21  33.775450 -117.847790       Orange    CA   \n",
       "3513615  2019-08-23 19:00:21  33.992460 -118.403020  Culver City    CA   \n",
       "3513616  2019-08-23 18:52:06  34.133930 -117.230920     Highland    CA   \n",
       "\n",
       "           Weather_Timestamp  Temperature(F)  Wind_Chill(F)  Visibility(mi)  \\\n",
       "641495   2019-12-26 17:15:00            31.0           31.0            10.0   \n",
       "641496   2019-12-26 17:15:00            31.0           31.0            10.0   \n",
       "740268   2019-12-31 23:53:00            28.0           17.0             7.0   \n",
       "740270   2019-12-31 23:53:00            28.0           17.0             7.0   \n",
       "740335   2019-12-31 23:54:00            43.0           36.0            10.0   \n",
       "...                      ...             ...            ...             ...   \n",
       "3513612  2019-08-23 17:53:00            86.0           86.0            10.0   \n",
       "3513613  2019-08-23 18:53:00            70.0           70.0            10.0   \n",
       "3513614  2019-08-23 18:53:00            73.0           73.0            10.0   \n",
       "3513615  2019-08-23 18:51:00            71.0           71.0            10.0   \n",
       "3513616  2019-08-23 20:50:00            79.0           79.0             7.0   \n",
       "\n",
       "        Wind_Direction  Wind_Speed(mph)  Precipitation(in) Weather_Condition  \\\n",
       "641495            CALM              0.0                0.0              Fair   \n",
       "641496            CALM              0.0                0.0              Fair   \n",
       "740268             WSW             13.0                0.0            Cloudy   \n",
       "740270             WSW             13.0                0.0            Cloudy   \n",
       "740335             WNW             14.0                0.0     Mostly Cloudy   \n",
       "...                ...              ...                ...               ...   \n",
       "3513612              W             13.0                0.0              Fair   \n",
       "3513613             SW              6.0                0.0              Fair   \n",
       "3513614            SSW             10.0                0.0     Partly Cloudy   \n",
       "3513615             SW              8.0                0.0              Fair   \n",
       "3513616             SW              7.0                0.0              Fair   \n",
       "\n",
       "               Date      Time  \n",
       "641495   2019-12-26  17:09:52  \n",
       "641496   2019-12-26  17:10:32  \n",
       "740268   2019-12-31  23:49:36  \n",
       "740270   2019-12-31  23:50:02  \n",
       "740335   2019-12-31  23:29:03  \n",
       "...             ...       ...  \n",
       "3513612  2019-08-23  18:03:25  \n",
       "3513613  2019-08-23  19:11:30  \n",
       "3513614  2019-08-23  19:00:21  \n",
       "3513615  2019-08-23  19:00:21  \n",
       "3513616  2019-08-23  18:52:06  \n",
       "\n",
       "[953733 rows x 15 columns]"
      ]
     },
     "execution_count": 8,
     "metadata": {},
     "output_type": "execute_result"
    }
   ],
   "source": [
    "final_accident_df_2019 = accident_df_19_20[year_2019]\n",
    "final_accident_df_2019"
   ]
  },
  {
   "cell_type": "code",
   "execution_count": null,
   "metadata": {},
   "outputs": [],
   "source": [
    "# final_accident_df_2019['Date'].sort_values()"
   ]
  },
  {
   "cell_type": "code",
   "execution_count": 9,
   "metadata": {},
   "outputs": [
    {
     "data": {
      "text/plain": [
       "Index(['Start_Time', 'Start_Lat', 'Start_Lng', 'City', 'State',\n",
       "       'Weather_Timestamp', 'Temperature(F)', 'Wind_Chill(F)',\n",
       "       'Visibility(mi)', 'Wind_Direction', 'Wind_Speed(mph)',\n",
       "       'Precipitation(in)', 'Weather_Condition', 'Date', 'Time'],\n",
       "      dtype='object')"
      ]
     },
     "execution_count": 9,
     "metadata": {},
     "output_type": "execute_result"
    }
   ],
   "source": [
    "final_accident_df_2019.columns"
   ]
  },
  {
   "cell_type": "code",
   "execution_count": 10,
   "metadata": {},
   "outputs": [
    {
     "data": {
      "text/html": [
       "<div>\n",
       "<style scoped>\n",
       "    .dataframe tbody tr th:only-of-type {\n",
       "        vertical-align: middle;\n",
       "    }\n",
       "\n",
       "    .dataframe tbody tr th {\n",
       "        vertical-align: top;\n",
       "    }\n",
       "\n",
       "    .dataframe thead th {\n",
       "        text-align: right;\n",
       "    }\n",
       "</style>\n",
       "<table border=\"1\" class=\"dataframe\">\n",
       "  <thead>\n",
       "    <tr style=\"text-align: right;\">\n",
       "      <th></th>\n",
       "      <th>Date</th>\n",
       "      <th>Time</th>\n",
       "      <th>Start_Lat</th>\n",
       "      <th>Start_Lng</th>\n",
       "      <th>City</th>\n",
       "      <th>State</th>\n",
       "      <th>Temperature(F)</th>\n",
       "      <th>Wind_Chill(F)</th>\n",
       "      <th>Visibility(mi)</th>\n",
       "      <th>Wind_Direction</th>\n",
       "      <th>Wind_Speed(mph)</th>\n",
       "      <th>Precipitation(in)</th>\n",
       "      <th>Weather_Condition</th>\n",
       "    </tr>\n",
       "  </thead>\n",
       "  <tbody>\n",
       "    <tr>\n",
       "      <th>641495</th>\n",
       "      <td>2019-12-26</td>\n",
       "      <td>17:09:52</td>\n",
       "      <td>40.884850</td>\n",
       "      <td>-95.800362</td>\n",
       "      <td>Thurman</td>\n",
       "      <td>IA</td>\n",
       "      <td>31.0</td>\n",
       "      <td>31.0</td>\n",
       "      <td>10.0</td>\n",
       "      <td>CALM</td>\n",
       "      <td>0.0</td>\n",
       "      <td>0.0</td>\n",
       "      <td>Fair</td>\n",
       "    </tr>\n",
       "    <tr>\n",
       "      <th>641496</th>\n",
       "      <td>2019-12-26</td>\n",
       "      <td>17:10:32</td>\n",
       "      <td>40.889641</td>\n",
       "      <td>-95.798630</td>\n",
       "      <td>Thurman</td>\n",
       "      <td>IA</td>\n",
       "      <td>31.0</td>\n",
       "      <td>31.0</td>\n",
       "      <td>10.0</td>\n",
       "      <td>CALM</td>\n",
       "      <td>0.0</td>\n",
       "      <td>0.0</td>\n",
       "      <td>Fair</td>\n",
       "    </tr>\n",
       "    <tr>\n",
       "      <th>740268</th>\n",
       "      <td>2019-12-31</td>\n",
       "      <td>23:49:36</td>\n",
       "      <td>42.313499</td>\n",
       "      <td>-83.091225</td>\n",
       "      <td>Detroit</td>\n",
       "      <td>MI</td>\n",
       "      <td>28.0</td>\n",
       "      <td>17.0</td>\n",
       "      <td>7.0</td>\n",
       "      <td>WSW</td>\n",
       "      <td>13.0</td>\n",
       "      <td>0.0</td>\n",
       "      <td>Cloudy</td>\n",
       "    </tr>\n",
       "    <tr>\n",
       "      <th>740270</th>\n",
       "      <td>2019-12-31</td>\n",
       "      <td>23:50:02</td>\n",
       "      <td>42.398125</td>\n",
       "      <td>-83.109009</td>\n",
       "      <td>Detroit</td>\n",
       "      <td>MI</td>\n",
       "      <td>28.0</td>\n",
       "      <td>17.0</td>\n",
       "      <td>7.0</td>\n",
       "      <td>WSW</td>\n",
       "      <td>13.0</td>\n",
       "      <td>0.0</td>\n",
       "      <td>Cloudy</td>\n",
       "    </tr>\n",
       "    <tr>\n",
       "      <th>740335</th>\n",
       "      <td>2019-12-31</td>\n",
       "      <td>23:29:03</td>\n",
       "      <td>39.754967</td>\n",
       "      <td>-75.276283</td>\n",
       "      <td>Swedesboro</td>\n",
       "      <td>NJ</td>\n",
       "      <td>43.0</td>\n",
       "      <td>36.0</td>\n",
       "      <td>10.0</td>\n",
       "      <td>WNW</td>\n",
       "      <td>14.0</td>\n",
       "      <td>0.0</td>\n",
       "      <td>Mostly Cloudy</td>\n",
       "    </tr>\n",
       "    <tr>\n",
       "      <th>...</th>\n",
       "      <td>...</td>\n",
       "      <td>...</td>\n",
       "      <td>...</td>\n",
       "      <td>...</td>\n",
       "      <td>...</td>\n",
       "      <td>...</td>\n",
       "      <td>...</td>\n",
       "      <td>...</td>\n",
       "      <td>...</td>\n",
       "      <td>...</td>\n",
       "      <td>...</td>\n",
       "      <td>...</td>\n",
       "      <td>...</td>\n",
       "    </tr>\n",
       "    <tr>\n",
       "      <th>3513612</th>\n",
       "      <td>2019-08-23</td>\n",
       "      <td>18:03:25</td>\n",
       "      <td>34.002480</td>\n",
       "      <td>-117.379360</td>\n",
       "      <td>Riverside</td>\n",
       "      <td>CA</td>\n",
       "      <td>86.0</td>\n",
       "      <td>86.0</td>\n",
       "      <td>10.0</td>\n",
       "      <td>W</td>\n",
       "      <td>13.0</td>\n",
       "      <td>0.0</td>\n",
       "      <td>Fair</td>\n",
       "    </tr>\n",
       "    <tr>\n",
       "      <th>3513613</th>\n",
       "      <td>2019-08-23</td>\n",
       "      <td>19:11:30</td>\n",
       "      <td>32.766960</td>\n",
       "      <td>-117.148060</td>\n",
       "      <td>San Diego</td>\n",
       "      <td>CA</td>\n",
       "      <td>70.0</td>\n",
       "      <td>70.0</td>\n",
       "      <td>10.0</td>\n",
       "      <td>SW</td>\n",
       "      <td>6.0</td>\n",
       "      <td>0.0</td>\n",
       "      <td>Fair</td>\n",
       "    </tr>\n",
       "    <tr>\n",
       "      <th>3513614</th>\n",
       "      <td>2019-08-23</td>\n",
       "      <td>19:00:21</td>\n",
       "      <td>33.775450</td>\n",
       "      <td>-117.847790</td>\n",
       "      <td>Orange</td>\n",
       "      <td>CA</td>\n",
       "      <td>73.0</td>\n",
       "      <td>73.0</td>\n",
       "      <td>10.0</td>\n",
       "      <td>SSW</td>\n",
       "      <td>10.0</td>\n",
       "      <td>0.0</td>\n",
       "      <td>Partly Cloudy</td>\n",
       "    </tr>\n",
       "    <tr>\n",
       "      <th>3513615</th>\n",
       "      <td>2019-08-23</td>\n",
       "      <td>19:00:21</td>\n",
       "      <td>33.992460</td>\n",
       "      <td>-118.403020</td>\n",
       "      <td>Culver City</td>\n",
       "      <td>CA</td>\n",
       "      <td>71.0</td>\n",
       "      <td>71.0</td>\n",
       "      <td>10.0</td>\n",
       "      <td>SW</td>\n",
       "      <td>8.0</td>\n",
       "      <td>0.0</td>\n",
       "      <td>Fair</td>\n",
       "    </tr>\n",
       "    <tr>\n",
       "      <th>3513616</th>\n",
       "      <td>2019-08-23</td>\n",
       "      <td>18:52:06</td>\n",
       "      <td>34.133930</td>\n",
       "      <td>-117.230920</td>\n",
       "      <td>Highland</td>\n",
       "      <td>CA</td>\n",
       "      <td>79.0</td>\n",
       "      <td>79.0</td>\n",
       "      <td>7.0</td>\n",
       "      <td>SW</td>\n",
       "      <td>7.0</td>\n",
       "      <td>0.0</td>\n",
       "      <td>Fair</td>\n",
       "    </tr>\n",
       "  </tbody>\n",
       "</table>\n",
       "<p>953733 rows × 13 columns</p>\n",
       "</div>"
      ],
      "text/plain": [
       "               Date      Time  Start_Lat   Start_Lng         City State  \\\n",
       "641495   2019-12-26  17:09:52  40.884850  -95.800362      Thurman    IA   \n",
       "641496   2019-12-26  17:10:32  40.889641  -95.798630      Thurman    IA   \n",
       "740268   2019-12-31  23:49:36  42.313499  -83.091225      Detroit    MI   \n",
       "740270   2019-12-31  23:50:02  42.398125  -83.109009      Detroit    MI   \n",
       "740335   2019-12-31  23:29:03  39.754967  -75.276283   Swedesboro    NJ   \n",
       "...             ...       ...        ...         ...          ...   ...   \n",
       "3513612  2019-08-23  18:03:25  34.002480 -117.379360    Riverside    CA   \n",
       "3513613  2019-08-23  19:11:30  32.766960 -117.148060    San Diego    CA   \n",
       "3513614  2019-08-23  19:00:21  33.775450 -117.847790       Orange    CA   \n",
       "3513615  2019-08-23  19:00:21  33.992460 -118.403020  Culver City    CA   \n",
       "3513616  2019-08-23  18:52:06  34.133930 -117.230920     Highland    CA   \n",
       "\n",
       "         Temperature(F)  Wind_Chill(F)  Visibility(mi) Wind_Direction  \\\n",
       "641495             31.0           31.0            10.0           CALM   \n",
       "641496             31.0           31.0            10.0           CALM   \n",
       "740268             28.0           17.0             7.0            WSW   \n",
       "740270             28.0           17.0             7.0            WSW   \n",
       "740335             43.0           36.0            10.0            WNW   \n",
       "...                 ...            ...             ...            ...   \n",
       "3513612            86.0           86.0            10.0              W   \n",
       "3513613            70.0           70.0            10.0             SW   \n",
       "3513614            73.0           73.0            10.0            SSW   \n",
       "3513615            71.0           71.0            10.0             SW   \n",
       "3513616            79.0           79.0             7.0             SW   \n",
       "\n",
       "         Wind_Speed(mph)  Precipitation(in) Weather_Condition  \n",
       "641495               0.0                0.0              Fair  \n",
       "641496               0.0                0.0              Fair  \n",
       "740268              13.0                0.0            Cloudy  \n",
       "740270              13.0                0.0            Cloudy  \n",
       "740335              14.0                0.0     Mostly Cloudy  \n",
       "...                  ...                ...               ...  \n",
       "3513612             13.0                0.0              Fair  \n",
       "3513613              6.0                0.0              Fair  \n",
       "3513614             10.0                0.0     Partly Cloudy  \n",
       "3513615              8.0                0.0              Fair  \n",
       "3513616              7.0                0.0              Fair  \n",
       "\n",
       "[953733 rows x 13 columns]"
      ]
     },
     "execution_count": 10,
     "metadata": {},
     "output_type": "execute_result"
    }
   ],
   "source": [
    "new_order = ['Date','Time', 'Start_Lat', 'Start_Lng', 'City', 'State',\n",
    "       'Temperature(F)', 'Wind_Chill(F)',\n",
    "       'Visibility(mi)', 'Wind_Direction', 'Wind_Speed(mph)',\n",
    "       'Precipitation(in)', 'Weather_Condition']\n",
    "final_accident_df_2019 = final_accident_df_2019.reindex(columns = new_order)\n",
    "final_accident_df_2019"
   ]
  },
  {
   "cell_type": "code",
   "execution_count": null,
   "metadata": {},
   "outputs": [],
   "source": [
    "# final_accident_df_2019.to_csv(\"output/2019accidents.csv\", index=False)"
   ]
  },
  {
   "cell_type": "code",
   "execution_count": 11,
   "metadata": {},
   "outputs": [
    {
     "data": {
      "text/plain": [
       "58991"
      ]
     },
     "execution_count": 11,
     "metadata": {},
     "output_type": "execute_result"
    }
   ],
   "source": [
    "##South Carolina Totals\n",
    "state_total = final_accident_df_2019.loc[accident_df.State =='SC', :]\n",
    "state_total_accidents = state_total['Date'].count()\n",
    "state_total_accidents"
   ]
  },
  {
   "cell_type": "code",
   "execution_count": 12,
   "metadata": {},
   "outputs": [
    {
     "data": {
      "text/plain": [
       "6433"
      ]
     },
     "execution_count": 12,
     "metadata": {},
     "output_type": "execute_result"
    }
   ],
   "source": [
    "##City with the most accidents\n",
    "city_total = state_total['City'].value_counts()\n",
    "city_total  = state_total[state_total.City == 'Greenville']\n",
    "green_accidents = city_total ['Date'].count()\n",
    "green_accidents"
   ]
  },
  {
   "cell_type": "code",
   "execution_count": 13,
   "metadata": {},
   "outputs": [
    {
     "data": {
      "text/plain": [
       "3513617"
      ]
     },
     "execution_count": 13,
     "metadata": {},
     "output_type": "execute_result"
    }
   ],
   "source": [
    "us_accident_total = accident_df['Date'].count()\n",
    "us_accident_total"
   ]
  },
  {
   "cell_type": "code",
   "execution_count": 14,
   "metadata": {},
   "outputs": [
    {
     "data": {
      "text/plain": [
       "216266"
      ]
     },
     "execution_count": 14,
     "metadata": {},
     "output_type": "execute_result"
    }
   ],
   "source": [
    "##Spring dates US\n",
    "spring_dates_df = final_accident_df_2019.loc[:, ['Date', 'Time', 'Start_Lat', 'Start_Lng', 'City', 'State', 'Temperature(F)', 'Wind_Chill(F)', 'Visibility(mi)', 'Wind_Direction', 'Wind_Speed(mph)', 'Precipitation(in)', 'Weather_Condition']]\n",
    "spring_dates_df = spring_dates_df[(final_accident_df_2019['Date'] >= '2019-03-01') & (final_accident_df_2019['Date'] <= '2019-05-31')]\n",
    "spring_dates_df.sort_values(by='Date', ascending=True)\n",
    "\n",
    "us_spring_totals = spring_dates_df['Date'].count()\n",
    "us_spring_totals     \n",
    "\n",
    "# spring_dates_df = spring_dates_df[(spring_dates_df['Temperature(F)'] >= 24) & (spring_dates_df['Temperature(F)'] <= 70)]\n",
    "# spring_dates_df.drop_duplicates(subset='State', inplace=True)\n",
    "# spring_dates_df.head(10)\n",
    "\n",
    "# spring_dates_df.to_csv(\"output/spring.csv\", index=False)"
   ]
  },
  {
   "cell_type": "code",
   "execution_count": 15,
   "metadata": {},
   "outputs": [
    {
     "name": "stderr",
     "output_type": "stream",
     "text": [
      "C:\\Users\\victo\\anaconda3\\envs\\PythonData\\lib\\site-packages\\ipykernel_launcher.py:3: UserWarning: Boolean Series key will be reindexed to match DataFrame index.\n",
      "  This is separate from the ipykernel package so we can avoid doing imports until\n"
     ]
    },
    {
     "data": {
      "text/plain": [
       "208981"
      ]
     },
     "execution_count": 15,
     "metadata": {},
     "output_type": "execute_result"
    }
   ],
   "source": [
    "##Summer dates US\n",
    "summer_dates_df = final_accident_df_2019.loc[:, ['Date', 'Time', 'Start_Lat', 'Start_Lng', 'City', 'State', 'Temperature(F)', 'Wind_Chill(F)', 'Visibility(mi)', 'Wind_Direction', 'Wind_Speed(mph)', 'Precipitation(in)', 'Weather_Condition']]\n",
    "summer_dates_df = summer_dates_df[(accident_df['Date'] >= '2019-06-01') & (accident_df['Date'] <= '2019-08-31')]\n",
    "summer_dates_df.sort_values(by='Date', ascending=True)\n",
    "\n",
    "us_summer_totals = summer_dates_df['Date'].count()\n",
    "us_summer_totals\n",
    "\n",
    "# summer_dates_df = summer_dates_df[(summer_dates_df['Temperature(F)'] >= 52) & (summer_dates_df['Temperature(F)'] <= 81)]\n",
    "# summer_dates_df.drop_duplicates(subset='State', inplace=True)\n",
    "# summer_dates_df.head(10)\n",
    "# summer_dates_df.to_csv(\"output/summer.csv\", index=False)"
   ]
  },
  {
   "cell_type": "code",
   "execution_count": 16,
   "metadata": {},
   "outputs": [
    {
     "data": {
      "text/plain": [
       "276370"
      ]
     },
     "execution_count": 16,
     "metadata": {},
     "output_type": "execute_result"
    }
   ],
   "source": [
    "##Fall dates US\n",
    "fall_dates_df = accident_df.loc[:, ['Date', 'Time', 'Start_Lat', 'Start_Lng', 'City', 'State', 'Temperature(F)', 'Wind_Chill(F)', 'Visibility(mi)', 'Wind_Direction', 'Wind_Speed(mph)', 'Precipitation(in)', 'Weather_Condition']]\n",
    "fall_dates_df = fall_dates_df[(accident_df['Date'] >= '2019-09-01') & (accident_df['Date'] <= '2019-11-31')]\n",
    "fall_dates_df.sort_values(by='Date', ascending=True)\n",
    "\n",
    "us_fall_totals = fall_dates_df['Date'].count()\n",
    "us_fall_totals \n",
    " \n",
    "# fall_dates_df = fall_dates_df[(fall_dates_df['Temperature(F)'] >= 27) & (fall_dates_df['Temperature(F)'] <= 73)]\n",
    "# fall_dates_df.drop_duplicates(subset='State', inplace=True)\n",
    "# fall_dates_df.head(10)    \n",
    "# fall_dates_df.to_csv(\"output/fall.csv\", index=False)"
   ]
  },
  {
   "cell_type": "code",
   "execution_count": 17,
   "metadata": {},
   "outputs": [
    {
     "data": {
      "text/plain": [
       "252116"
      ]
     },
     "execution_count": 17,
     "metadata": {},
     "output_type": "execute_result"
    }
   ],
   "source": [
    "##Winter dates US\n",
    "winter_part_1 = accident_df.loc[:, ['Date', 'Time', 'Start_Lat', 'Start_Lng', 'City', 'State', 'Temperature(F)', 'Wind_Chill(F)', 'Visibility(mi)', 'Wind_Direction', 'Wind_Speed(mph)', 'Precipitation(in)', 'Weather_Condition']]\n",
    "winter_part_1 = winter_part_1[(accident_df['Date'] >= '2019-01-01') & (accident_df['Date'] <= '2019-02-28')]\n",
    "winter_part_1.sort_values(by='Date', ascending=True)\n",
    "winter_part_2 = accident_df.loc[:, ['Date', 'Time', 'Start_Lat', 'Start_Lng', 'City', 'State', 'Temperature(F)', 'Wind_Chill(F)', 'Visibility(mi)', 'Wind_Direction', 'Wind_Speed(mph)', 'Precipitation(in)', 'Weather_Condition']]\n",
    "winter_part_2 = winter_part_2[(accident_df['Date'] >= '2019-12-01') & (accident_df['Date'] <= '2019-12-31')]\n",
    "winter_part_2.sort_values(by='Date', ascending=True)\n",
    "winter_total = winter_part_1.append(winter_part_2)\n",
    "winter_total.sort_values(by='Date', ascending=True)\n",
    "us_winter_totals = winter_total['Date'].count()\n",
    "us_winter_totals\n",
    "\n",
    "# winter = winter[(winter['Temperature(F)'] >= 3) & (winter['Temperature(F)'] <= 67)]\n",
    "# winter.drop_duplicates(subset='State', inplace=True)\n",
    "# winter.head(10)"
   ]
  },
  {
   "cell_type": "code",
   "execution_count": null,
   "metadata": {},
   "outputs": [],
   "source": [
    "## South Carolina Season Dataframes"
   ]
  },
  {
   "cell_type": "code",
   "execution_count": 18,
   "metadata": {},
   "outputs": [
    {
     "data": {
      "text/plain": [
       "13943"
      ]
     },
     "execution_count": 18,
     "metadata": {},
     "output_type": "execute_result"
    }
   ],
   "source": [
    "##Spring dates SC\n",
    "sc_spring = spring_dates_df.loc[spring_dates_df.State == 'SC', : ]\n",
    "sc_spring_totals = sc_spring['Date'].count()\n",
    "sc_spring_totals"
   ]
  },
  {
   "cell_type": "code",
   "execution_count": 19,
   "metadata": {},
   "outputs": [
    {
     "data": {
      "text/plain": [
       "6.447153043011847"
      ]
     },
     "execution_count": 19,
     "metadata": {},
     "output_type": "execute_result"
    }
   ],
   "source": [
    "##Spring percentage SC\n",
    "spring_percentage = (sc_spring_totals / us_spring_totals) * 100\n",
    "spring_percentage"
   ]
  },
  {
   "cell_type": "code",
   "execution_count": 20,
   "metadata": {},
   "outputs": [
    {
     "data": {
      "text/plain": [
       "1649"
      ]
     },
     "execution_count": 20,
     "metadata": {},
     "output_type": "execute_result"
    }
   ],
   "source": [
    "##Spring dates Greenville\n",
    "greenville_spring = sc_spring.loc[sc_spring.City == 'Greenville', : ]\n",
    "greenville_spring_totals = greenville_spring['Date'].count()\n",
    "greenville_spring_totals"
   ]
  },
  {
   "cell_type": "code",
   "execution_count": 21,
   "metadata": {},
   "outputs": [
    {
     "data": {
      "text/plain": [
       "0.7624869373826676"
      ]
     },
     "execution_count": 21,
     "metadata": {},
     "output_type": "execute_result"
    }
   ],
   "source": [
    "##Spring percentage Greenville\n",
    "green_spring_percentage = (greenville_spring_totals / us_spring_totals) * 100\n",
    "green_spring_percentage"
   ]
  },
  {
   "cell_type": "code",
   "execution_count": 22,
   "metadata": {},
   "outputs": [
    {
     "data": {
      "text/plain": [
       "14117"
      ]
     },
     "execution_count": 22,
     "metadata": {},
     "output_type": "execute_result"
    }
   ],
   "source": [
    "##Summer dates SC\n",
    "sc_summer = summer_dates_df.loc[summer_dates_df.State == 'SC', : ]\n",
    "sc_summer_totals = sc_summer['Date'].count()\n",
    "sc_summer_totals"
   ]
  },
  {
   "cell_type": "code",
   "execution_count": 23,
   "metadata": {},
   "outputs": [
    {
     "data": {
      "text/plain": [
       "6.755159559959996"
      ]
     },
     "execution_count": 23,
     "metadata": {},
     "output_type": "execute_result"
    }
   ],
   "source": [
    "##Summer percentage SC\n",
    "summer_percentage = (sc_summer_totals / us_summer_totals) * 100\n",
    "summer_percentage"
   ]
  },
  {
   "cell_type": "code",
   "execution_count": 24,
   "metadata": {},
   "outputs": [
    {
     "data": {
      "text/plain": [
       "1643"
      ]
     },
     "execution_count": 24,
     "metadata": {},
     "output_type": "execute_result"
    }
   ],
   "source": [
    "##Summer dates Greenville\n",
    "greenville_summer = sc_summer.loc[sc_summer.City == 'Greenville', : ]\n",
    "greenville_summer_totals = greenville_summer['Date'].count()\n",
    "greenville_summer_totals"
   ]
  },
  {
   "cell_type": "code",
   "execution_count": 25,
   "metadata": {},
   "outputs": [
    {
     "data": {
      "text/plain": [
       "0.7597125761793346"
      ]
     },
     "execution_count": 25,
     "metadata": {},
     "output_type": "execute_result"
    }
   ],
   "source": [
    "##Summer percentage Greenville\n",
    "green_summer_percentage = (greenville_summer_totals / us_spring_totals) * 100\n",
    "green_summer_percentage"
   ]
  },
  {
   "cell_type": "code",
   "execution_count": 26,
   "metadata": {},
   "outputs": [
    {
     "data": {
      "text/plain": [
       "17123"
      ]
     },
     "execution_count": 26,
     "metadata": {},
     "output_type": "execute_result"
    }
   ],
   "source": [
    "##Fall dates SC\n",
    "sc_fall = fall_dates_df.loc[fall_dates_df.State == 'SC', : ]\n",
    "sc_fall_totals = sc_fall['Date'].count()\n",
    "sc_fall_totals"
   ]
  },
  {
   "cell_type": "code",
   "execution_count": 27,
   "metadata": {},
   "outputs": [
    {
     "data": {
      "text/plain": [
       "6.195679704743641"
      ]
     },
     "execution_count": 27,
     "metadata": {},
     "output_type": "execute_result"
    }
   ],
   "source": [
    "##Fall percentage SC\n",
    "fall_percentage = (sc_fall_totals / us_fall_totals) * 100\n",
    "fall_percentage"
   ]
  },
  {
   "cell_type": "code",
   "execution_count": 28,
   "metadata": {},
   "outputs": [
    {
     "data": {
      "text/plain": [
       "1664"
      ]
     },
     "execution_count": 28,
     "metadata": {},
     "output_type": "execute_result"
    }
   ],
   "source": [
    "##Fall dates Greenville\n",
    "greenville_fall = sc_fall.loc[sc_fall.City == 'Greenville', : ]\n",
    "greenville_fall_totals = greenville_fall['Date'].count()\n",
    "greenville_fall_totals"
   ]
  },
  {
   "cell_type": "code",
   "execution_count": 29,
   "metadata": {},
   "outputs": [
    {
     "data": {
      "text/plain": [
       "0.769422840391"
      ]
     },
     "execution_count": 29,
     "metadata": {},
     "output_type": "execute_result"
    }
   ],
   "source": [
    "##Fall percentage Greenville\n",
    "green_fall_percentage = (greenville_fall_totals / us_spring_totals) * 100\n",
    "green_fall_percentage"
   ]
  },
  {
   "cell_type": "code",
   "execution_count": 30,
   "metadata": {},
   "outputs": [
    {
     "data": {
      "text/plain": [
       "13808"
      ]
     },
     "execution_count": 30,
     "metadata": {},
     "output_type": "execute_result"
    }
   ],
   "source": [
    "##Winter dates SC\n",
    "sc_winter = winter_total.loc[winter_total.State == 'SC', : ]\n",
    "sc_winter_totals = sc_winter['Date'].count()\n",
    "sc_winter_totals"
   ]
  },
  {
   "cell_type": "code",
   "execution_count": 54,
   "metadata": {},
   "outputs": [
    {
     "data": {
      "text/plain": [
       "4.996200745377574"
      ]
     },
     "execution_count": 54,
     "metadata": {},
     "output_type": "execute_result"
    }
   ],
   "source": [
    "##Winter percentage SC\n",
    "winter_percentage = (sc_winter_totals / us_fall_totals) * 100\n",
    "winter_percentage"
   ]
  },
  {
   "cell_type": "code",
   "execution_count": 32,
   "metadata": {},
   "outputs": [
    {
     "data": {
      "text/plain": [
       "1477"
      ]
     },
     "execution_count": 32,
     "metadata": {},
     "output_type": "execute_result"
    }
   ],
   "source": [
    "##Winter dates Greenville\n",
    "greenville_winter = sc_winter.loc[sc_winter.City == 'Greenville', : ]\n",
    "greenville_winter_totals = greenville_winter['Date'].count()\n",
    "greenville_winter_totals"
   ]
  },
  {
   "cell_type": "code",
   "execution_count": 33,
   "metadata": {},
   "outputs": [
    {
     "data": {
      "text/plain": [
       "0.6829552495537903"
      ]
     },
     "execution_count": 33,
     "metadata": {},
     "output_type": "execute_result"
    }
   ],
   "source": [
    "##Winter percentage Greenville\n",
    "green_winter_percentage = (greenville_winter_totals / us_spring_totals) * 100\n",
    "green_winter_percentage"
   ]
  },
  {
   "cell_type": "code",
   "execution_count": null,
   "metadata": {},
   "outputs": [],
   "source": [
    "##SC Stats\n",
    "sc_spring.describe()\n",
    "sc_summer.describe()\n",
    "sc_fall.describe()\n",
    "sc_winter.describe()"
   ]
  },
  {
   "cell_type": "code",
   "execution_count": 34,
   "metadata": {},
   "outputs": [
    {
     "data": {
      "text/plain": [
       "Text(0.5, 1.0, 'Accidents vs Weather Condition in Greenville')"
      ]
     },
     "execution_count": 34,
     "metadata": {},
     "output_type": "execute_result"
    },
    {
     "data": {
      "image/png": "[encoded data removed]",
      "text/plain": [
       "<Figure size 432x288 with 1 Axes>"
      ]
     },
     "metadata": {
      "needs_background": "light"
     },
     "output_type": "display_data"
    }
   ],
   "source": [
    "#2019 total US accidents wet/dry bar graph\n",
    "final_accident_df_2019['Precipitation(in)'] = final_accident_df_2019['Precipitation(in)'].fillna(0)\n",
    "precip = final_accident_df_2019['Precipitation(in)'] > 0\n",
    "precip_wet = final_accident_df_2019[precip]['Date'].count()\n",
    "no_precip = final_accident_df_2019['Precipitation(in)'] == 0\n",
    "precip_dry = final_accident_df_2019[no_precip]['Date'].count()\n",
    "df = pd.DataFrame({'Weather Condition':['Precipitation', 'Non-Precipitation'],'No. US Accidents':[precip_wet,precip_dry]})\n",
    "ax = df.plot.bar(x='Weather Condition', y='No. US Accidents', rot=0)\n",
    "plt.ylabel('Accidents')\n",
    "plt.title('Accidents vs Weather Condition in Greenville')"
   ]
  },
  {
   "cell_type": "code",
   "execution_count": 62,
   "metadata": {},
   "outputs": [
    {
     "name": "stderr",
     "output_type": "stream",
     "text": [
      "C:\\Users\\victo\\anaconda3\\envs\\PythonData\\lib\\site-packages\\ipykernel_launcher.py:2: SettingWithCopyWarning: \n",
      "A value is trying to be set on a copy of a slice from a DataFrame.\n",
      "Try using .loc[row_indexer,col_indexer] = value instead\n",
      "\n",
      "See the caveats in the documentation: https://pandas.pydata.org/pandas-docs/stable/user_guide/indexing.html#returning-a-view-versus-a-copy\n",
      "  \n"
     ]
    },
    {
     "data": {
      "text/plain": [
       "Text(0.5, 1.0, 'Accidents vs Weather Condition in Greenville')"
      ]
     },
     "execution_count": 62,
     "metadata": {},
     "output_type": "execute_result"
    },
    {
     "data": {
      "image/png": "[encoded data removed]",
      "text/plain": [
       "<Figure size 432x288 with 1 Axes>"
      ]
     },
     "metadata": {
      "needs_background": "light"
     },
     "output_type": "display_data"
    }
   ],
   "source": [
    "#2019 South Carolina total accidents wet/dry bar graph\n",
    "state_total['Precipitation(in)'] = state_total['Precipitation(in)'].fillna(0)\n",
    "precip = state_total['Precipitation(in)'] > 0\n",
    "precip_wet_state = state_total[precip]['Date'].count()\n",
    "no_precip = state_total['Precipitation(in)'] == 0\n",
    "precip_dry_state = state_total[no_precip]['Date'].count()\n",
    "df = pd.DataFrame({'Weather Condition':['Precipitation', 'Non-Precipitation'],'No. SC Accidents':[precip_wet,precip_dry]})\n",
    "ax = df.plot.bar(x='Weather Condition', y='No. SC Accidents', rot=0)\n",
    "plt.ylabel('Accidents')\n",
    "plt.title('Accidents vs Weather Condition in Greenville')"
   ]
  },
  {
   "cell_type": "code",
   "execution_count": 36,
   "metadata": {},
   "outputs": [
    {
     "name": "stderr",
     "output_type": "stream",
     "text": [
      "C:\\Users\\victo\\anaconda3\\envs\\PythonData\\lib\\site-packages\\ipykernel_launcher.py:2: SettingWithCopyWarning: \n",
      "A value is trying to be set on a copy of a slice from a DataFrame.\n",
      "Try using .loc[row_indexer,col_indexer] = value instead\n",
      "\n",
      "See the caveats in the documentation: https://pandas.pydata.org/pandas-docs/stable/user_guide/indexing.html#returning-a-view-versus-a-copy\n",
      "  \n"
     ]
    },
    {
     "data": {
      "image/png": "[encoded data removed]",
      "text/plain": [
       "<Figure size 432x288 with 1 Axes>"
      ]
     },
     "metadata": {
      "needs_background": "light"
     },
     "output_type": "display_data"
    }
   ],
   "source": [
    "#2019 Greenvillw total accidents wet/dry bar graph\n",
    "city_total['Precipitation(in)'] = state_total['Precipitation(in)'].fillna(0)\n",
    "precip = city_total['Precipitation(in)'] > 0\n",
    "precip_wet = city_total[precip]['Date'].count()\n",
    "no_precip = city_total['Precipitation(in)'] == 0\n",
    "precip_dry = city_total[no_precip]['Date'].count()\n",
    "df = pd.DataFrame({'Weather Condition':['Precipitation', 'Non-Precipitation'],'No. Greenville Accidents':[precip_wet,precip_dry]})\n",
    "ax = df.plot.bar(x='Weather Condition', y='No. Greenville Accidents', rot=0)"
   ]
  },
  {
   "cell_type": "code",
   "execution_count": 37,
   "metadata": {},
   "outputs": [
    {
     "data": {
      "image/png": "[encoded data removed]",
      "text/plain": [
       "<Figure size 432x288 with 1 Axes>"
      ]
     },
     "metadata": {
      "needs_background": "light"
     },
     "output_type": "display_data"
    }
   ],
   "source": [
    "##Accidents in South Carolina per Season (bar chart)\n",
    "fig = plt.figure()\n",
    "ax = fig.add_axes([0,0,1,1])\n",
    "label = ['Spring', 'Summer', 'Fall', 'Winter']\n",
    "totals = [sc_spring_totals, sc_summer_totals, sc_fall_totals, sc_winter_totals]\n",
    "colors = ['green', 'yellow', 'orange', 'lightskyblue']\n",
    "plt.title('South Carolina Accidents Per Season')\n",
    "plt.xlabel('Season')\n",
    "plt.ylabel('Num of Accidents')\n",
    "ax.bar(label,totals, color = colors)\n",
    "plt.show()"
   ]
  },
  {
   "cell_type": "code",
   "execution_count": 56,
   "metadata": {},
   "outputs": [
    {
     "data": {
      "image/png": "[encoded data removed]",
      "text/plain": [
       "<Figure size 432x288 with 1 Axes>"
      ]
     },
     "metadata": {
      "needs_background": "light"
     },
     "output_type": "display_data"
    }
   ],
   "source": [
    "##Accidents in Greenville, South Carolina per Season (bar chart)\n",
    "fig = plt.figure()\n",
    "ax = fig.add_axes([0,0,1,1])\n",
    "label = ['Spring', 'Summer', 'Fall', 'Winter']\n",
    "totals = [greenville_spring_totals, greenville_summer_totals, greenville_fall_totals, greenville_winter_totals]\n",
    "colors = ['green', 'yellow', 'orange', 'lightskyblue']\n",
    "plt.title('Greenville, South Carolina Accidents Per Season')\n",
    "plt.xlabel('Season')\n",
    "plt.ylabel('Num of Accidents')\n",
    "ax.bar(label,totals, color = colors)\n",
    "plt.show()"
   ]
  },
  {
   "cell_type": "code",
   "execution_count": 93,
   "metadata": {},
   "outputs": [
    {
     "data": {
      "text/html": [
       "<div>\n",
       "<style scoped>\n",
       "    .dataframe tbody tr th:only-of-type {\n",
       "        vertical-align: middle;\n",
       "    }\n",
       "\n",
       "    .dataframe tbody tr th {\n",
       "        vertical-align: top;\n",
       "    }\n",
       "\n",
       "    .dataframe thead th {\n",
       "        text-align: right;\n",
       "    }\n",
       "</style>\n",
       "<table border=\"1\" class=\"dataframe\">\n",
       "  <thead>\n",
       "    <tr style=\"text-align: right;\">\n",
       "      <th></th>\n",
       "      <th>observed</th>\n",
       "      <th>expected</th>\n",
       "    </tr>\n",
       "  </thead>\n",
       "  <tbody>\n",
       "    <tr>\n",
       "      <th>Precipitation</th>\n",
       "      <td>3380</td>\n",
       "      <td>5656.67</td>\n",
       "    </tr>\n",
       "    <tr>\n",
       "      <th>Non-Precipitation</th>\n",
       "      <td>55611</td>\n",
       "      <td>53334.33</td>\n",
       "    </tr>\n",
       "  </tbody>\n",
       "</table>\n",
       "</div>"
      ],
      "text/plain": [
       "                   observed  expected\n",
       "Precipitation          3380   5656.67\n",
       "Non-Precipitation     55611  53334.33"
      ]
     },
     "execution_count": 93,
     "metadata": {},
     "output_type": "execute_result"
    }
   ],
   "source": [
    "#South Carolina Precipitation / Non-Precipitation Chi-Square\n",
    "scprecipdays = 35\n",
    "scnonprecipdays = 330\n",
    "scprecipexp = (scprecipdays / 365) * state_total_accidents\n",
    "scnonprecipexp = (scnonprecipdays / 365) * state_total_accidents\n",
    "observed = pd.Series([precip_wet_state, precip_dry_state], index=['Precipitation','Non-Precipitation'])\n",
    "df = pd.DataFrame([observed]).T\n",
    "df[1] = 0\n",
    "df.columns = ['observed','expected']\n",
    "df.loc['Precipitation','expected'] = round(scprecipexp, 2)\n",
    "df.loc['Non-Precipitation','expected'] = round(scnonprecipexp, 2)\n",
    "df\n",
    "df.head()"
   ]
  },
  {
   "cell_type": "code",
   "execution_count": 98,
   "metadata": {},
   "outputs": [
    {
     "data": {
      "text/plain": [
       "Power_divergenceResult(statistic=538.2445122895205, pvalue=4.542932634227907e-119)"
      ]
     },
     "execution_count": 98,
     "metadata": {},
     "output_type": "execute_result"
    }
   ],
   "source": [
    "critical_value = sts.chi2.ppf(q=0.95, df = 1)\n",
    "critical_value\n",
    "sts.chisquare(df['observed'], df['expected'])"
   ]
  },
  {
   "cell_type": "code",
   "execution_count": 99,
   "metadata": {},
   "outputs": [
    {
     "data": {
      "text/html": [
       "<div>\n",
       "<style scoped>\n",
       "    .dataframe tbody tr th:only-of-type {\n",
       "        vertical-align: middle;\n",
       "    }\n",
       "\n",
       "    .dataframe tbody tr th {\n",
       "        vertical-align: top;\n",
       "    }\n",
       "\n",
       "    .dataframe thead th {\n",
       "        text-align: right;\n",
       "    }\n",
       "</style>\n",
       "<table border=\"1\" class=\"dataframe\">\n",
       "  <thead>\n",
       "    <tr style=\"text-align: right;\">\n",
       "      <th></th>\n",
       "      <th>observed</th>\n",
       "      <th>expected</th>\n",
       "    </tr>\n",
       "  </thead>\n",
       "  <tbody>\n",
       "    <tr>\n",
       "      <th>Precipitation</th>\n",
       "      <td>434</td>\n",
       "      <td>2556</td>\n",
       "    </tr>\n",
       "    <tr>\n",
       "      <th>Non-Precipitation</th>\n",
       "      <td>5999</td>\n",
       "      <td>3877</td>\n",
       "    </tr>\n",
       "  </tbody>\n",
       "</table>\n",
       "</div>"
      ],
      "text/plain": [
       "                   observed  expected\n",
       "Precipitation           434      2556\n",
       "Non-Precipitation      5999      3877"
      ]
     },
     "execution_count": 99,
     "metadata": {},
     "output_type": "execute_result"
    }
   ],
   "source": [
    "#Greenville,South Carolina Precipitation / Non-Precipitation Chi-Square\n",
    "greenprecipdays = 145\n",
    "greennonprecipdays = 220\n",
    "greenprecipexp = (greenprecipdays / 365) * green_accidents\n",
    "greennonprecipexp = (greennonprecipdays / 365) * green_accidents\n",
    "observed = pd.Series([precip_wet, precip_dry], index=['Precipitation','Non-Precipitation'])\n",
    "df = pd.DataFrame([observed]).T\n",
    "df[1] = 0\n",
    "df.columns = ['observed','expected']\n",
    "df.loc['Precipitation','expected'] = round(greenprecipexp)\n",
    "df.loc['Non-Precipitation','expected'] = round(greennonprecipexp)\n",
    "df\n",
    "df.head()"
   ]
  },
  {
   "cell_type": "code",
   "execution_count": 101,
   "metadata": {},
   "outputs": [
    {
     "data": {
      "text/plain": [
       "3.841458820694124"
      ]
     },
     "execution_count": 101,
     "metadata": {},
     "output_type": "execute_result"
    }
   ],
   "source": [
    "critical_value = sts.chi2.ppf(q=0.95, df = 1)\n",
    "critical_value"
   ]
  },
  {
   "cell_type": "code",
   "execution_count": 102,
   "metadata": {},
   "outputs": [
    {
     "data": {
      "text/plain": [
       "Power_divergenceResult(statistic=2923.1268360456497, pvalue=0.0)"
      ]
     },
     "execution_count": 102,
     "metadata": {},
     "output_type": "execute_result"
    }
   ],
   "source": [
    "sts.chisquare(df['observed'], df['expected'])"
   ]
  },
  {
   "cell_type": "code",
   "execution_count": 46,
   "metadata": {},
   "outputs": [
    {
     "data": {
      "image/png": "[encoded data removed]",
      "text/plain": [
       "<Figure size 432x288 with 1 Axes>"
      ]
     },
     "metadata": {
      "needs_background": "light"
     },
     "output_type": "display_data"
    },
    {
     "name": "stdout",
     "output_type": "stream",
     "text": [
      "Mean: 0.07308284023668639\n",
      "Median: 0.03\n",
      "Mode: 0    0.01\n",
      "dtype: float64\n"
     ]
    }
   ],
   "source": [
    "#South Carolina Precipitation Histogram\n",
    "precipitation = state_total[state_total[\"Precipitation(in)\"] > 0]\n",
    "precipitation = precipitation[\"Precipitation(in)\"]\n",
    "plt.hist(precipitation, bins = 150)\n",
    "plt.title('South Carolina Precipitation')\n",
    "plt.xlabel('Precipitation(in)')\n",
    "plt.ylabel('Count')\n",
    "plt.xticks(rotation=90)\n",
    "plt.show()\n",
    "\n",
    "mean = precipitation.mean()\n",
    "median = precipitation.median()\n",
    "mode = precipitation.mode()\n",
    "print(f'Mean: {mean}')\n",
    "print(f'Median: {median}')\n",
    "print(f'Mode: {mode}')"
   ]
  },
  {
   "cell_type": "code",
   "execution_count": 47,
   "metadata": {},
   "outputs": [
    {
     "data": {
      "image/png": "[encoded data removed]",
      "text/plain": [
       "<Figure size 432x288 with 1 Axes>"
      ]
     },
     "metadata": {
      "needs_background": "light"
     },
     "output_type": "display_data"
    },
    {
     "name": "stdout",
     "output_type": "stream",
     "text": [
      "Mean: 0.06380184331797237\n",
      "Median: 0.03\n",
      "Mode: 0    0.01\n",
      "dtype: float64\n"
     ]
    }
   ],
   "source": [
    "#Greenville, South Carolina Precipitation Histogram\n",
    "precipitation = city_total[city_total[\"Precipitation(in)\"] > 0]\n",
    "precipitation = precipitation[\"Precipitation(in)\"]\n",
    "plt.hist(precipitation, bins = 150)\n",
    "plt.title('Greenville, South Carolina Precipitation')\n",
    "plt.xlabel('Precipitation(in)')\n",
    "plt.ylabel('Count')\n",
    "plt.xticks(rotation=90)\n",
    "plt.show()\n",
    "\n",
    "mean = precipitation.mean()\n",
    "median = precipitation.median()\n",
    "mode = precipitation.mode()\n",
    "print(f'Mean: {mean}')\n",
    "print(f'Median: {median}')\n",
    "print(f'Mode: {mode}')"
   ]
  },
  {
   "cell_type": "code",
   "execution_count": 48,
   "metadata": {},
   "outputs": [
    {
     "data": {
      "image/png": "[encoded data removed]",
      "text/plain": [
       "<Figure size 432x288 with 1 Axes>"
      ]
     },
     "metadata": {
      "needs_background": "light"
     },
     "output_type": "display_data"
    },
    {
     "name": "stdout",
     "output_type": "stream",
     "text": [
      "Mean: 9.128317144832353\n",
      "Median: 10.0\n",
      "Mode: 0    10.0\n",
      "dtype: float64\n"
     ]
    }
   ],
   "source": [
    "#South Carolina Visability Histogram\n",
    "vis = state_total[state_total[\"Visibility(mi)\"] > 0]\n",
    "vis = vis[\"Visibility(mi)\"]\n",
    "plt.hist(vis)\n",
    "plt.title('South Carolina Visibility(mi)')\n",
    "plt.xlabel('Visibility(mi)')\n",
    "plt.ylabel('Count')\n",
    "plt.xticks(rotation=90)\n",
    "plt.show()\n",
    "\n",
    "mean = vis.mean()\n",
    "median = vis.median()\n",
    "mode = vis.mode()\n",
    "print(f'Mean: {mean}')\n",
    "print(f'Median: {median}')\n",
    "print(f'Mode: {mode}')"
   ]
  },
  {
   "cell_type": "code",
   "execution_count": 49,
   "metadata": {},
   "outputs": [
    {
     "data": {
      "image/png": "[encoded data removed]",
      "text/plain": [
       "<Figure size 432x288 with 1 Axes>"
      ]
     },
     "metadata": {
      "needs_background": "light"
     },
     "output_type": "display_data"
    },
    {
     "name": "stdout",
     "output_type": "stream",
     "text": [
      "Mean: 9.32746927982579\n",
      "Median: 10.0\n",
      "Mode: 0    10.0\n",
      "dtype: float64\n"
     ]
    }
   ],
   "source": [
    "#Greenville, South Carolina Visability Histogram\n",
    "vis = city_total[city_total[\"Visibility(mi)\"] > 0]\n",
    "vis = vis[\"Visibility(mi)\"]\n",
    "plt.hist(vis)\n",
    "plt.title('Greenville, South Carolina Visibility(mi)')\n",
    "plt.xlabel('Visibility(mi)')\n",
    "plt.ylabel('Count')\n",
    "plt.xticks(rotation=90)\n",
    "plt.show()\n",
    "\n",
    "mean = vis.mean()\n",
    "median = vis.median()\n",
    "mode = vis.mode()\n",
    "print(f'Mean: {mean}')\n",
    "print(f'Median: {median}')\n",
    "print(f'Mode: {mode}')"
   ]
  },
  {
   "cell_type": "code",
   "execution_count": 50,
   "metadata": {},
   "outputs": [
    {
     "data": {
      "image/png": "[encoded data removed]",
      "text/plain": [
       "<Figure size 432x288 with 1 Axes>"
      ]
     },
     "metadata": {
      "needs_background": "light"
     },
     "output_type": "display_data"
    },
    {
     "name": "stdout",
     "output_type": "stream",
     "text": [
      "Mean: 68.21408341114224\n",
      "Median: 70.0\n",
      "Mode: 0    79.0\n",
      "dtype: float64\n"
     ]
    }
   ],
   "source": [
    "#Greenville, South Carolina Temperature Histogram\n",
    "temp = city_total[city_total[\"Temperature(F)\"] > -20]\n",
    "temp = temp[\"Temperature(F)\"]\n",
    "plt.hist(temp)\n",
    "plt.title('Greenville, South Carolina Temperature(F)')\n",
    "plt.xlabel('Temperature(F)')\n",
    "plt.ylabel('Count')\n",
    "plt.xticks(rotation=90)\n",
    "plt.show()\n",
    "\n",
    "mean = temp.mean()\n",
    "median = temp.median()\n",
    "mode = temp.mode()\n",
    "print(f'Mean: {mean}')\n",
    "print(f'Median: {median}')\n",
    "print(f'Mode: {mode}')"
   ]
  },
  {
   "cell_type": "code",
   "execution_count": 51,
   "metadata": {},
   "outputs": [
    {
     "data": {
      "image/png": "[encoded data removed]",
      "text/plain": [
       "<Figure size 432x288 with 1 Axes>"
      ]
     },
     "metadata": {
      "needs_background": "light"
     },
     "output_type": "display_data"
    },
    {
     "name": "stdout",
     "output_type": "stream",
     "text": [
      "Mean: 66.5796590048861\n",
      "Median: 68.0\n",
      "Mode: 0    73.0\n",
      "dtype: float64\n"
     ]
    }
   ],
   "source": [
    "#South Carolina Temperature Histogram\n",
    "temp = state_total[state_total[\"Temperature(F)\"] > -20]\n",
    "temp = temp[\"Temperature(F)\"]\n",
    "plt.hist(temp)\n",
    "plt.title('South Carolina Temperature(F)')\n",
    "plt.xlabel('Temperature(F)')\n",
    "plt.ylabel('Count')\n",
    "plt.xticks(rotation=90)\n",
    "plt.show()\n",
    "\n",
    "mean = temp.mean()\n",
    "median = temp.median()\n",
    "mode = temp.mode()\n",
    "print(f'Mean: {mean}')\n",
    "print(f'Median: {median}')\n",
    "print(f'Mode: {mode}')"
   ]
  },
  {
   "cell_type": "code",
   "execution_count": 55,
   "metadata": {},
   "outputs": [
    {
     "data": {
      "image/png": "[encoded data removed]",
      "text/plain": [
       "<Figure size 432x288 with 1 Axes>"
      ]
     },
     "metadata": {},
     "output_type": "display_data"
    },
    {
     "data": {
      "text/plain": [
       "<Figure size 7200x7200 with 0 Axes>"
      ]
     },
     "metadata": {},
     "output_type": "display_data"
    }
   ],
   "source": [
    "# % of Accidents in South Carolina per Season (pie chart)\n",
    "label = ['Spring', 'Summer', 'Fall', 'Winter']\n",
    "totals = [spring_percentage, summer_percentage, fall_percentage, winter_percentage]\n",
    "colors = ['green', 'yellow', 'orange', 'lightskyblue']\n",
    "\n",
    "plt.pie(totals, labels = label,colors = colors, autopct=\"%1.1f%%\", shadow=True, startangle = 140)\n",
    "plt.title('SC Accidents Per Season')\n",
    "plt.axis(\"equal\")\n",
    "fig = plt.figure(figsize=(100,100))\n",
    "plt.show()"
   ]
  },
  {
   "cell_type": "code",
   "execution_count": 53,
   "metadata": {},
   "outputs": [
    {
     "data": {
      "image/png": "[encoded data removed]",
      "text/plain": [
       "<Figure size 432x288 with 1 Axes>"
      ]
     },
     "metadata": {},
     "output_type": "display_data"
    },
    {
     "data": {
      "text/plain": [
       "<Figure size 7200x7200 with 0 Axes>"
      ]
     },
     "metadata": {},
     "output_type": "display_data"
    }
   ],
   "source": [
    "# % of Accidents in Greenville, South Carolina per Season (pie chart)\n",
    "label = ['Spring', 'Summer', 'Fall', 'Winter']\n",
    "totals = [green_spring_percentage, green_summer_percentage, green_fall_percentage, green_winter_percentage]\n",
    "colors = ['green', 'yellow', 'orange', 'lightskyblue']\n",
    "plt.pie(totals, labels = label,colors = colors, autopct=\"%1.1f%%\", shadow=True, startangle = 140)\n",
    "plt.title('Greenville, SC Accidents Per Season')\n",
    "plt.axis(\"equal\")\n",
    "fig = plt.figure(figsize=(100,100))\n",
    "plt.show()"
   ]
  }
 ],
 "metadata": {
  "kernelspec": {
   "display_name": "Python [conda env:PythonData] *",
   "language": "python",
   "name": "conda-env-PythonData-py"
  },
  "language_info": {
   "codemirror_mode": {
    "name": "ipython",
    "version": 3
   },
   "file_extension": ".py",
   "mimetype": "text/x-python",
   "name": "python",
   "nbconvert_exporter": "python",
   "pygments_lexer": "ipython3",
   "version": "3.6.10"
  }
 },
 "nbformat": 4,
 "nbformat_minor": 2
}
