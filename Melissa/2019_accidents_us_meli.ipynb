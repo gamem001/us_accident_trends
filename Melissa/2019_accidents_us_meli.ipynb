{
 "cells": [
  {
   "cell_type": "code",
   "execution_count": 40,
   "metadata": {},
   "outputs": [],
   "source": [
    "import pandas as pd\n",
    "import csv\n",
    "import json\n",
    "import numpy as np\n",
    "from census import Census\n",
    "import requests\n",
    "from us import states\n",
    "from api_key import weather_key\n",
    "import matplotlib.pyplot as plt\n",
    "import scipy.stats as sts"
   ]
  },
  {
   "cell_type": "code",
   "execution_count": 33,
   "metadata": {},
   "outputs": [],
   "source": [
    "#call in the 2019 US accident csv\n",
    "file_path = 'final_accident.csv'\n",
    "\n",
    "final_accident_df = pd.read_csv(file_path)"
   ]
  },
  {
   "cell_type": "code",
   "execution_count": 4,
   "metadata": {},
   "outputs": [
    {
     "data": {
      "text/html": [
       "<div>\n",
       "<style scoped>\n",
       "    .dataframe tbody tr th:only-of-type {\n",
       "        vertical-align: middle;\n",
       "    }\n",
       "\n",
       "    .dataframe tbody tr th {\n",
       "        vertical-align: top;\n",
       "    }\n",
       "\n",
       "    .dataframe thead th {\n",
       "        text-align: right;\n",
       "    }\n",
       "</style>\n",
       "<table border=\"1\" class=\"dataframe\">\n",
       "  <thead>\n",
       "    <tr style=\"text-align: right;\">\n",
       "      <th></th>\n",
       "      <th>Start_Lat</th>\n",
       "      <th>Start_Lng</th>\n",
       "      <th>Temperature(F)</th>\n",
       "      <th>Wind_Chill(F)</th>\n",
       "      <th>Visibility(mi)</th>\n",
       "      <th>Wind_Speed(mph)</th>\n",
       "      <th>Precipitation(in)</th>\n",
       "    </tr>\n",
       "  </thead>\n",
       "  <tbody>\n",
       "    <tr>\n",
       "      <th>count</th>\n",
       "      <td>953733.000000</td>\n",
       "      <td>953733.000000</td>\n",
       "      <td>936596.000000</td>\n",
       "      <td>804535.000000</td>\n",
       "      <td>935298.000000</td>\n",
       "      <td>893690.000000</td>\n",
       "      <td>734636.000000</td>\n",
       "    </tr>\n",
       "    <tr>\n",
       "      <th>mean</th>\n",
       "      <td>36.692206</td>\n",
       "      <td>-96.665776</td>\n",
       "      <td>60.744718</td>\n",
       "      <td>60.161543</td>\n",
       "      <td>9.070157</td>\n",
       "      <td>7.426030</td>\n",
       "      <td>0.006961</td>\n",
       "    </tr>\n",
       "    <tr>\n",
       "      <th>std</th>\n",
       "      <td>4.840517</td>\n",
       "      <td>17.375819</td>\n",
       "      <td>19.486831</td>\n",
       "      <td>22.647872</td>\n",
       "      <td>2.867206</td>\n",
       "      <td>5.307131</td>\n",
       "      <td>0.060485</td>\n",
       "    </tr>\n",
       "    <tr>\n",
       "      <th>min</th>\n",
       "      <td>24.555269</td>\n",
       "      <td>-124.534439</td>\n",
       "      <td>-33.000000</td>\n",
       "      <td>-59.000000</td>\n",
       "      <td>0.000000</td>\n",
       "      <td>0.000000</td>\n",
       "      <td>0.000000</td>\n",
       "    </tr>\n",
       "    <tr>\n",
       "      <th>25%</th>\n",
       "      <td>33.743729</td>\n",
       "      <td>-117.616121</td>\n",
       "      <td>48.000000</td>\n",
       "      <td>45.000000</td>\n",
       "      <td>10.000000</td>\n",
       "      <td>3.500000</td>\n",
       "      <td>0.000000</td>\n",
       "    </tr>\n",
       "    <tr>\n",
       "      <th>50%</th>\n",
       "      <td>35.971110</td>\n",
       "      <td>-93.121780</td>\n",
       "      <td>63.000000</td>\n",
       "      <td>64.000000</td>\n",
       "      <td>10.000000</td>\n",
       "      <td>7.000000</td>\n",
       "      <td>0.000000</td>\n",
       "    </tr>\n",
       "    <tr>\n",
       "      <th>75%</th>\n",
       "      <td>40.538670</td>\n",
       "      <td>-81.236946</td>\n",
       "      <td>75.000000</td>\n",
       "      <td>77.000000</td>\n",
       "      <td>10.000000</td>\n",
       "      <td>10.000000</td>\n",
       "      <td>0.000000</td>\n",
       "    </tr>\n",
       "    <tr>\n",
       "      <th>max</th>\n",
       "      <td>49.002201</td>\n",
       "      <td>-67.703370</td>\n",
       "      <td>170.600000</td>\n",
       "      <td>115.000000</td>\n",
       "      <td>130.000000</td>\n",
       "      <td>255.000000</td>\n",
       "      <td>25.000000</td>\n",
       "    </tr>\n",
       "  </tbody>\n",
       "</table>\n",
       "</div>"
      ],
      "text/plain": [
       "           Start_Lat      Start_Lng  Temperature(F)  Wind_Chill(F)  \\\n",
       "count  953733.000000  953733.000000   936596.000000  804535.000000   \n",
       "mean       36.692206     -96.665776       60.744718      60.161543   \n",
       "std         4.840517      17.375819       19.486831      22.647872   \n",
       "min        24.555269    -124.534439      -33.000000     -59.000000   \n",
       "25%        33.743729    -117.616121       48.000000      45.000000   \n",
       "50%        35.971110     -93.121780       63.000000      64.000000   \n",
       "75%        40.538670     -81.236946       75.000000      77.000000   \n",
       "max        49.002201     -67.703370      170.600000     115.000000   \n",
       "\n",
       "       Visibility(mi)  Wind_Speed(mph)  Precipitation(in)  \n",
       "count   935298.000000    893690.000000      734636.000000  \n",
       "mean         9.070157         7.426030           0.006961  \n",
       "std          2.867206         5.307131           0.060485  \n",
       "min          0.000000         0.000000           0.000000  \n",
       "25%         10.000000         3.500000           0.000000  \n",
       "50%         10.000000         7.000000           0.000000  \n",
       "75%         10.000000        10.000000           0.000000  \n",
       "max        130.000000       255.000000          25.000000  "
      ]
     },
     "execution_count": 4,
     "metadata": {},
     "output_type": "execute_result"
    }
   ],
   "source": [
    "#run stats for 2019 US accident totals\n",
    "final_accident_df.describe()"
   ]
  },
  {
   "cell_type": "code",
   "execution_count": 8,
   "metadata": {},
   "outputs": [],
   "source": [
    "# rain = final_accident_df[final_accident_df['Precipitation(in)'] > 1]\n",
    "# accidents_vs_precipitation = rain.groupby(\"Precipitation(in)\").count()['City'] \n",
    "# accidents_vs_precipitation = accidents_vs_precipitation.reset_index()\n",
    "# accidents_vs_precipitation"
   ]
  },
  {
   "cell_type": "code",
   "execution_count": 9,
   "metadata": {},
   "outputs": [],
   "source": [
    "#created scatterplot of precipitation by accidents, not a good depiction of data\n",
    "# fig, ax = plt.subplots()\n",
    "# ax.scatter(accidents_vs_precipitation['Precipitation(in)'], accidents_vs_precipitation['City'] , color='r')\n",
    "# ax.set_xlabel('Precipitation (in)')\n",
    "# ax.set_ylabel('Accidents')\n",
    "# ax.set_title('scatter plot')\n",
    "# fig.set_size_inches(15, 10.5)\n",
    "# plt.show()"
   ]
  },
  {
   "cell_type": "code",
   "execution_count": 55,
   "metadata": {},
   "outputs": [
    {
     "data": {
      "image/png": "[encoded data removed]",
      "text/plain": [
       "<Figure size 432x288 with 1 Axes>"
      ]
     },
     "metadata": {
      "needs_background": "light"
     },
     "output_type": "display_data"
    },
    {
     "name": "stdout",
     "output_type": "stream",
     "text": [
      "Mean: 0.7803091502631067\n",
      "Median: 1.0\n",
      "Mode: 0    1.0\n",
      "dtype: float64\n"
     ]
    }
   ],
   "source": [
    "#turn precip column into series for hist\n",
    "precipitation = final_accident_df[final_accident_df[\"Precipitation(in)\"] > 0]\n",
    "\n",
    "#reset variable for hist. based on new df\n",
    "precip_hist = precipitation['Precipitation(in)']\n",
    "\n",
    "#determine hist of precip\n",
    "plt.hist(precip_hist, bins= 150)\n",
    "plt.xlabel('Precipitation(in)')\n",
    "plt.ylabel('Count')\n",
    "plt.xticks(rotation=90)\n",
    "plt.savefig(\"../../../.png\")\n",
    "plt.show()\n",
    "\n",
    "#determine measures of data\n",
    "mean = precipitation['Precipitation(in)'].mean()\n",
    "median = precipitation['Precipitation(in)'].median()\n",
    "mode = precipitation['Precipitation(in)'].mode()\n",
    "print(f'Mean: {mean}')\n",
    "print(f'Median: {median}')\n",
    "print(f'Mode: {mode}')"
   ]
  },
  {
   "cell_type": "code",
   "execution_count": 52,
   "metadata": {},
   "outputs": [
    {
     "data": {
      "image/png": "[encoded data removed]",
      "text/plain": [
       "<Figure size 432x288 with 1 Axes>"
      ]
     },
     "metadata": {
      "needs_background": "light"
     },
     "output_type": "display_data"
    },
    {
     "name": "stdout",
     "output_type": "stream",
     "text": [
      "Mean: 60.74471789330726\n",
      "Median: 63.0\n",
      "Mode: 0    73.0\n",
      "dtype: float64\n"
     ]
    }
   ],
   "source": [
    "#turn precip column into series for hist\n",
    "temp = final_accident_df[final_accident_df[\"Temperature(F)\"] > -89]\n",
    "\n",
    "#reset variable for hist. based on new df\n",
    "temp_hist = temp['Temperature(F)']\n",
    "\n",
    "#determine hist of precip\n",
    "plt.hist(temp_hist, bins=100)\n",
    "plt.xlabel('Temperature(F)')\n",
    "plt.ylabel('Count')\n",
    "plt.xticks(rotation=90)\n",
    "plt.show()\n",
    "\n",
    "#determine measures of data\n",
    "mean = temp['Temperature(F)'].mean()\n",
    "median = temp['Temperature(F)'].median()\n",
    "mode = temp['Temperature(F)'].mode()\n",
    "print(f'Mean: {mean}')\n",
    "print(f'Median: {median}')\n",
    "print(f'Mode: {mode}')"
   ]
  },
  {
   "cell_type": "code",
   "execution_count": 53,
   "metadata": {},
   "outputs": [
    {
     "data": {
      "image/png": "[encoded data removed]",
      "text/plain": [
       "<Figure size 432x288 with 1 Axes>"
      ]
     },
     "metadata": {
      "needs_background": "light"
     },
     "output_type": "display_data"
    },
    {
     "name": "stdout",
     "output_type": "stream",
     "text": [
      "Mean: 9.070156549035708\n",
      "Median: 10.0\n",
      "Mode: 0    10.0\n",
      "dtype: float64\n"
     ]
    }
   ],
   "source": [
    "#turn precip column into series for hist\n",
    "vis = final_accident_df[final_accident_df[\"Visibility(mi)\"] > -89]\n",
    "\n",
    "#reset variable for hist. based on new df\n",
    "vis_hist = vis['Visibility(mi)']\n",
    "\n",
    "#determine hist of precip\n",
    "plt.hist(temp_hist, bins=100)\n",
    "plt.xlabel('Visibility(mi)')\n",
    "plt.ylabel('Count')\n",
    "plt.xticks(rotation=90)\n",
    "plt.show()\n",
    "\n",
    "#determine measures of data\n",
    "mean = vis['Visibility(mi)'].mean()\n",
    "median = vis['Visibility(mi)'].median()\n",
    "mode = vis['Visibility(mi)'].mode()\n",
    "print(f'Mean: {mean}')\n",
    "print(f'Median: {median}')\n",
    "print(f'Mode: {mode}')"
   ]
  },
  {
   "cell_type": "code",
   "execution_count": 43,
   "metadata": {},
   "outputs": [
    {
     "data": {
      "image/png": "[encoded data removed]",
      "text/plain": [
       "<Figure size 432x288 with 1 Axes>"
      ]
     },
     "metadata": {
      "needs_background": "light"
     },
     "output_type": "display_data"
    }
   ],
   "source": [
    "#2019 total US accidents wet/dry bar graph\n",
    "final_accident_df['Precipitation(in)'] = final_accident_df['Precipitation(in)'].fillna(0)\n",
    "precip = final_accident_df['Precipitation(in)'] > 0\n",
    "precip_wet = final_accident_df[precip]['Date'].count()\n",
    "no_precip = final_accident_df['Precipitation(in)'] == 0\n",
    "precip_dry = final_accident_df[no_precip]['Date'].count()\n",
    "df = pd.DataFrame({'Weather Condition':['Precipitation', 'Non-Precipitation'],'No. Accidents':[precip_wet,precip_dry]})\n",
    "ax = df.plot.bar(x='Weather Condition', y='No. Accidents', rot=0, title = 'Accidents vs Weather Condition', color = 'royalblue')\n",
    "ax.set_ylabel('Accidents', size=12)\n",
    "ax.set_xlabel('Weather Condition', size=12)\n",
    "plt.show()"
   ]
  },
  {
   "cell_type": "code",
   "execution_count": 25,
   "metadata": {},
   "outputs": [
    {
     "name": "stderr",
     "output_type": "stream",
     "text": [
      "<ipython-input-25-7b04e9a6d69d>:9: MatplotlibDeprecationWarning: Non-1D inputs to pie() are currently squeeze()d, but this behavior is deprecated since 3.1 and will be removed in 3.3; pass a 1D array instead.\n",
      "  plt.pie(totals, labels = labels,\n"
     ]
    },
    {
     "data": {
      "image/png": "[encoded data removed]",
      "text/plain": [
       "<Figure size 432x288 with 1 Axes>"
      ]
     },
     "metadata": {},
     "output_type": "display_data"
    },
    {
     "data": {
      "text/plain": [
       "<Figure size 720x720 with 0 Axes>"
      ]
     },
     "metadata": {},
     "output_type": "display_data"
    }
   ],
   "source": [
    "#create pie chart of each season's total accident percents\n",
    "labels = ['Spring', 'Summer', 'Winter', 'Fall']\n",
    "accident_counts = [216266, 208981, 252116, 276370] \n",
    "\n",
    "label = [labels]\n",
    "totals = [accident_counts]\n",
    "colors = [\"lightgreen\", \"yellow\", \"skyblue\", \"brown\"]\n",
    "\n",
    "# Tell matplotlib to create a pie chart based upon the above data\n",
    "plt.pie(totals, labels = labels, \n",
    "        colors = colors, autopct=\"%1.1f%%\", shadow=True, startangle = 140)\n",
    "# Create axes which are equal so we have a perfect circle\n",
    "plt.axis(\"equal\")\n",
    "#print the final product to the screen\n",
    "fig = plt.figure(figsize=(10,10))\n",
    "plt.show()"
   ]
  },
  {
   "cell_type": "code",
   "execution_count": 56,
   "metadata": {},
   "outputs": [
    {
     "data": {
      "image/png": "[encoded data removed]",
      "text/plain": [
       "<Figure size 432x288 with 1 Axes>"
      ]
     },
     "metadata": {
      "needs_background": "light"
     },
     "output_type": "display_data"
    }
   ],
   "source": [
    "fig = plt.figure()\n",
    "ax = fig.add_axes([0,0,1,1])\n",
    "label = ['Spring', 'Summer', 'Fall', 'Winter']\n",
    "totals = [216266, 208981, 276370, 252116]\n",
    "colors = ['green', 'yellow', 'orange', 'lightskyblue']\n",
    "plt.title('Accidents Per Season')\n",
    "plt.xlabel('Season')\n",
    "plt.ylabel('Num of Accidents')\n",
    "ax.bar(label,totals, color = colors)\n",
    "plt.show()"
   ]
  }
 ],
 "metadata": {
  "kernelspec": {
   "display_name": "Python [conda env:pythondata] *",
   "language": "python",
   "name": "conda-env-pythondata-py"
  },
  "language_info": {
   "codemirror_mode": {
    "name": "ipython",
    "version": 3
   },
   "file_extension": ".py",
   "mimetype": "text/x-python",
   "name": "python",
   "nbconvert_exporter": "python",
   "pygments_lexer": "ipython3",
   "version": "3.8.5"
  }
 },
 "nbformat": 4,
 "nbformat_minor": 4
}
